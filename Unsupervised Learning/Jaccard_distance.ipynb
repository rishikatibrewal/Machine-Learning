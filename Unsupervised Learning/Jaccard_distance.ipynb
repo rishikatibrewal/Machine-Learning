{
  "nbformat": 4,
  "nbformat_minor": 0,
  "metadata": {
    "colab": {
      "name": "Jaccard_distance.ipynb",
      "provenance": [],
      "collapsed_sections": [
        "1hFylOm9n9YO",
        "fuVo017TRTl6"
      ]
    },
    "kernelspec": {
      "name": "python3",
      "display_name": "Python 3"
    },
    "language_info": {
      "name": "python"
    }
  },
  "cells": [
    {
      "cell_type": "markdown",
      "source": [
        "## Importing all libraries and dataset required in this notebook"
      ],
      "metadata": {
        "id": "5hgUxNc7rnRh"
      }
    },
    {
      "cell_type": "code",
      "source": [
        "# pip install -U memory_profiler"
      ],
      "metadata": {
        "id": "QhE8VGlcv9sB"
      },
      "execution_count": null,
      "outputs": []
    },
    {
      "cell_type": "code",
      "source": [
        "import pandas as pd\n",
        "import numpy as np\n",
        "import matplotlib.pyplot as plt\n",
        "import random\n",
        "import time\n",
        "\n",
        "%reload_ext memory_profiler\n",
        "from memory_profiler import profile\n",
        "from sklearn.metrics import pairwise_distances\n",
        "from sklearn.decomposition import KernelPCA\n",
        "from mpl_toolkits.mplot3d import Axes3D\n",
        "from sklearn.decomposition import PCA\n",
        "np.random.seed=42"
      ],
      "metadata": {
        "id": "zemzSpWTBOAW"
      },
      "execution_count": null,
      "outputs": []
    },
    {
      "cell_type": "code",
      "source": [
        "kos_data = pd.read_table(\"https://raw.githubusercontent.com/rishikatibrewal/Datasets/main/docword.kos.txt\",header=None,skiprows=3, delimiter = \" \", names =[\"DocID\",\"WordID\",\"Count\"])\n",
        "nips_data = pd.read_table(\"https://raw.githubusercontent.com/rishikatibrewal/Datasets/main/docword.nips.txt\",header=None,skiprows=3, delimiter = \" \", names =[\"DocID\",\"WordID\",\"Count\"])\n",
        "enron_data = pd.read_table(\"docword.enron.txt\",header=None,skiprows=3, delimiter = \" \", names =[\"DocID\",\"WordID\",\"Count\"])"
      ],
      "metadata": {
        "id": "xQZx4nZy7O7g"
      },
      "execution_count": null,
      "outputs": []
    },
    {
      "cell_type": "markdown",
      "source": [
        "## Functions to perform K-Means using Jaccard distance and create plots"
      ],
      "metadata": {
        "id": "Mu-DzDk8V-Cw"
      }
    },
    {
      "cell_type": "code",
      "source": [
        "def J_kmeans(data,jdis,n_clusters=5,max_iter=100,random_state = 42,inertia = False):\n",
        "\n",
        "  centre_cluster={} # Labels are the keys and the centroid documents are the values\n",
        "  cluster={} # Labels are the keys and documents in that cluster are the values\n",
        "  random.seed(random_state)\n",
        "  \n",
        "  # picking k centroids randomly from the list of all the documents\n",
        "  initial_centroids = random.sample(range(data.shape[1]),n_clusters) \n",
        "  \n",
        "  # Assigning the centres of the clusters with these randomly chosen centroids\n",
        "  for i in range(n_clusters):\n",
        "      centre_cluster[i]=initial_centroids[i] \n",
        "\n",
        "  for iter in range(max_iter):\n",
        "    # Finding the Jaccard distance from each centroid using jaccard distance matrix\n",
        "    #Initializing the cluster as empty\n",
        "    for i in range(n_clusters):\n",
        "      cluster[i] = [] \n",
        "    jac_dis_centroid = pd.DataFrame(jdis).loc[centre_cluster.values(),:]\n",
        "    # Taking only the rows of jaccard matrix corresponding to the centroid as rows correspond to a document vector\n",
        "\n",
        "    # Finding the distance of each point from these centroid and assigning to a cluster\n",
        "    for doc in data:\n",
        "        dist = list(jac_dis_centroid[doc-1]) #Taking the jaccard distance of each document with respect to the centre_cluster\n",
        "        x = dist.index(min(dist)) #Finding the minimum of the Jaccard distances from each centroid\n",
        "        cluster[x].append(doc-1) #Add the document to the cluster of the centroid corresponding to minimum distance\n",
        "    \n",
        "    # Recalculating the centroid \n",
        "    centroid_update = list()\n",
        "    for i in range(n_clusters):\n",
        "        col_sums = list(pd.DataFrame(jdis).loc[cluster[i],cluster[i]].sum(axis=0)) # Finding the sum of Jaccard distances for each document in a cluster wrt to each other\n",
        "        new_centre = cluster[i][col_sums.index(min(col_sums))] # Finding the lowest sum\n",
        "        centroid_update.append(new_centre) # Updating the centroid as one with the lowest sum\n",
        "\n",
        "    for i in range(n_clusters):\n",
        "        if iter!=max_iter-1: # last step\n",
        "            centre_cluster[i] = centroid_update[i] # Updating the new centroid in the centroid dictionary\n",
        "            \n",
        "  if inertia==True:\n",
        "    iner_sum = 0\n",
        "    for i in range(n_clusters):\n",
        "      centre_index = centre_cluster[i]\n",
        "      cluster_index = cluster[i]\n",
        "      iner_sum += sum(jdis[cluster_index,centre_index]**2)\n",
        "    iner = iner_sum/n_clusters\n",
        "  result={}\n",
        "  result[0] = cluster\n",
        "  result[1] = centre_cluster\n",
        "  if inertia==True:\n",
        "    result[2] = iner\n",
        "  return(result)"
      ],
      "metadata": {
        "id": "VsjWHnQPMSro"
      },
      "execution_count": null,
      "outputs": []
    },
    {
      "cell_type": "code",
      "source": [
        "def elbow(data,jdis,k,max_iter=10):\n",
        "\n",
        "    # Finding the optimum number of clusters for k-means classification\n",
        "    wcss = []\n",
        "    for i in range(1,k):\n",
        "        wcss.append(J_kmeans(data,jdis,n_clusters=i,max_iter=10,inertia=True)[2])\n",
        "        \n",
        "    # Plotting the results onto a line graph, \n",
        "    # `allowing us to observe 'The elbow'\n",
        "    plt.figure(figsize=(12,6))\n",
        "    plt.plot(range(1, 11), wcss,marker='o')\n",
        "    plt.title('The elbow method')\n",
        "    plt.xlabel('Number of clusters')\n",
        "    plt.ylabel('WCSS') # Within cluster sum of squares\n",
        "    plt.show()"
      ],
      "metadata": {
        "id": "YMawncfnnacr"
      },
      "execution_count": null,
      "outputs": []
    },
    {
      "cell_type": "code",
      "source": [
        "def kmeans_plot(data,sparse,n_cluster=3,n_components = 3):\n",
        "  finaldf = []\n",
        "  y = []\n",
        "  for i in range(n_cluster): \n",
        "    for j in data[i]:\n",
        "      finaldf.append(sparse[:,j-1])\n",
        "      y.append(i)\n",
        "  \n",
        "  result = pd.DataFrame(y, columns = [\"Cluster\"])\n",
        "\n",
        "  pca = KernelPCA(n_components)\n",
        "  \n",
        "  principalDF = pd.DataFrame(pca.fit_transform(finaldf), columns = [\"Component1\",\"Component2\",\"Component3\"])\n",
        "\n",
        "  finalDF = pd.concat([principalDF, result], axis = 1)\n",
        "  create_3d_scatter(finalDF)"
      ],
      "metadata": {
        "id": "mIKiThoZU4Mb"
      },
      "execution_count": null,
      "outputs": []
    },
    {
      "cell_type": "code",
      "source": [
        "def create_3d_scatter(df):\n",
        "  fig = plt.figure()\n",
        "  ax = fig.add_subplot(111, projection='3d')\n",
        "  ax.set_title('3 component PCA', fontsize = 20)\n",
        "\n",
        "  ax.scatter(df['Component1'], df['Component2'], df['Component3'], c=df['Cluster'])\n",
        "  plt.show()"
      ],
      "metadata": {
        "id": "E8n98PYFcNDu"
      },
      "execution_count": null,
      "outputs": []
    },
    {
      "cell_type": "markdown",
      "source": [
        "## KOS"
      ],
      "metadata": {
        "id": "iaZxjpPlnhfr"
      }
    },
    {
      "cell_type": "code",
      "source": [
        "print(kos_data)"
      ],
      "metadata": {
        "colab": {
          "base_uri": "https://localhost:8080/"
        },
        "id": "FOzOpLW8nA4s",
        "outputId": "821312cf-b3fb-4a75-cc77-a7e8493cbee5"
      },
      "execution_count": null,
      "outputs": [
        {
          "output_type": "stream",
          "name": "stdout",
          "text": [
            "        DocID  WordID  Count\n",
            "0           1      61      2\n",
            "1           1      76      1\n",
            "2           1      89      1\n",
            "3           1     211      1\n",
            "4           1     296      1\n",
            "...       ...     ...    ...\n",
            "353155   3430    6328      1\n",
            "353156   3430    6644      1\n",
            "353157   3430    6741      1\n",
            "353158   3430    6799      1\n",
            "353159   3430    6822      1\n",
            "\n",
            "[353160 rows x 3 columns]\n"
          ]
        }
      ]
    },
    {
      "cell_type": "code",
      "source": [
        "kos_doc_count = kos_data[\"DocID\"].nunique()\n",
        "kos_word_count = kos_data[\"WordID\"].nunique()\n",
        "kos_doc_count, kos_word_count"
      ],
      "metadata": {
        "id": "xOTjQD-DXK9O",
        "colab": {
          "base_uri": "https://localhost:8080/"
        },
        "outputId": "d23a42bb-4110-4072-fb0d-07590589467f"
      },
      "execution_count": null,
      "outputs": [
        {
          "output_type": "execute_result",
          "data": {
            "text/plain": [
              "(3430, 6906)"
            ]
          },
          "metadata": {},
          "execution_count": 20
        }
      ]
    },
    {
      "cell_type": "markdown",
      "source": [
        "Count of unique documents and words in KOS"
      ],
      "metadata": {
        "id": "he-OtQkJW5Yx"
      }
    },
    {
      "cell_type": "code",
      "source": [
        "kos_matrix = np.zeros((kos_word_count,kos_doc_count), dtype=np.int64)"
      ],
      "metadata": {
        "id": "CNDsfxi3ZQGC"
      },
      "execution_count": null,
      "outputs": []
    },
    {
      "cell_type": "code",
      "source": [
        "for i in range(int(kos_data.shape[0])):\n",
        "  word_pos = int(kos_data.WordID[i])\n",
        "  doc_pos = int(kos_data.DocID[i])\n",
        "  kos_matrix[word_pos-1][doc_pos-1] = int(kos_data.Count[i])"
      ],
      "metadata": {
        "id": "GqBukhqKPgRW"
      },
      "execution_count": null,
      "outputs": []
    },
    {
      "cell_type": "markdown",
      "source": [
        "Creating a matrix of bag of words with each column representing a document vector"
      ],
      "metadata": {
        "id": "phtxJ0kWXTIb"
      }
    },
    {
      "cell_type": "code",
      "source": [
        "sparse_kos_matrix = np.where(kos_matrix>0,1,0)\n",
        "kos_mat_df = pd.DataFrame(sparse_kos_matrix,index=pd.RangeIndex(start=1,stop=kos_word_count+1),columns=range(1,kos_doc_count+1))"
      ],
      "metadata": {
        "id": "Z3b4REiQCI8t"
      },
      "execution_count": null,
      "outputs": []
    },
    {
      "cell_type": "markdown",
      "source": [
        "Creating a matrix of set of words"
      ],
      "metadata": {
        "id": "5RjvImXF4gZz"
      }
    },
    {
      "cell_type": "code",
      "source": [
        "%%time\n",
        "kos_jac_dis_mat = pairwise_distances(np.transpose(kos_matrix), metric='jaccard')"
      ],
      "metadata": {
        "colab": {
          "base_uri": "https://localhost:8080/"
        },
        "id": "bMHcRGXYEg-q",
        "outputId": "ba24562a-720c-421e-f58b-89f663530d98"
      },
      "execution_count": null,
      "outputs": [
        {
          "output_type": "stream",
          "name": "stderr",
          "text": [
            "/usr/local/lib/python3.7/dist-packages/sklearn/metrics/pairwise.py:1875: DataConversionWarning: Data was converted to boolean for metric jaccard\n",
            "  warnings.warn(msg, DataConversionWarning)\n"
          ]
        },
        {
          "output_type": "stream",
          "name": "stdout",
          "text": [
            "CPU times: user 59 s, sys: 106 ms, total: 59.1 s\n",
            "Wall time: 1min\n"
          ]
        }
      ]
    },
    {
      "cell_type": "markdown",
      "source": [
        "Matrix of Jaccard Distance"
      ],
      "metadata": {
        "id": "qJCs-nKa4pWW"
      }
    },
    {
      "cell_type": "code",
      "source": [
        "kos_jac_mat = np.round(1-kos_jac_dis_mat,4)"
      ],
      "metadata": {
        "id": "AROUpoUoGT3r"
      },
      "execution_count": null,
      "outputs": []
    },
    {
      "cell_type": "markdown",
      "source": [
        "Matrix of Jaccard Index"
      ],
      "metadata": {
        "id": "Wmu0rB1Q4uOg"
      }
    },
    {
      "cell_type": "markdown",
      "source": [
        "### Alternative Method to calculate Jaccard Index"
      ],
      "metadata": {
        "id": "1hFylOm9n9YO"
      }
    },
    {
      "cell_type": "code",
      "source": [
        "# def jaccard(x,y):\n",
        "#     z=set(x).intersection(set(y))\n",
        "#     a=float(len(z))/(len(x)+len(y)-len(z))\n",
        "#     return a"
      ],
      "metadata": {
        "id": "QUcWySBQaWjm"
      },
      "execution_count": null,
      "outputs": []
    },
    {
      "cell_type": "code",
      "source": [
        "# doc_dict = {}\n",
        "# for i in range(int(kos_data.shape[0])):\n",
        "#   doc_index = kos_data.DocID[i]\n",
        "#   if doc_index in doc_dict.keys():\n",
        "#     doc_dict[doc_index].append(kos_data.WordID[i])\n",
        "#   else:\n",
        "#     doc_dict[doc_index] = [kos_data.WordID[i]]"
      ],
      "metadata": {
        "id": "0OApqkHjacZR"
      },
      "execution_count": null,
      "outputs": []
    },
    {
      "cell_type": "code",
      "source": [
        "# jacma = np.zeros((kos_doc_count,kos_doc_count), dtype=np.float64)\n",
        "# for i in range(1,kos_doc_count+1):\n",
        "#   for j in range(i,kos_doc_count+1):\n",
        "#     jacma[i-1][j-1] = jacma[j-1][i-1] = np.round(jaccard(doc_dict[i],doc_dict[j]),4)"
      ],
      "metadata": {
        "id": "Kt2teQlOIiBG"
      },
      "execution_count": null,
      "outputs": []
    },
    {
      "cell_type": "markdown",
      "source": [
        "### Optimising the value of k for KOS"
      ],
      "metadata": {
        "id": "g5MyQa28oMnN"
      }
    },
    {
      "cell_type": "code",
      "source": [
        "elbow(kos_mat_df,kos_jac_dis_mat,11,200)"
      ],
      "metadata": {
        "id": "1xwv61LAz_oB",
        "colab": {
          "base_uri": "https://localhost:8080/",
          "height": 404
        },
        "outputId": "a7e6ee73-d7eb-485b-e426-9a6c2b28544d"
      },
      "execution_count": null,
      "outputs": [
        {
          "output_type": "display_data",
          "data": {
            "text/plain": [
              "<Figure size 864x432 with 1 Axes>"
            ],
            "image/png": "[encoded data removed]"
          },
          "metadata": {
            "needs_background": "light"
          }
        }
      ]
    },
    {
      "cell_type": "code",
      "source": [
        "%%time\n",
        "%%memit\n",
        "kos_Kmeans = J_kmeans(kos_mat_df,kos_jac_dis_mat,n_clusters=3,max_iter=100)"
      ],
      "metadata": {
        "id": "OykhlU39K6Om",
        "colab": {
          "base_uri": "https://localhost:8080/"
        },
        "outputId": "cdbb1938-7837-42a6-85d9-a843222a3c31"
      },
      "execution_count": null,
      "outputs": [
        {
          "output_type": "stream",
          "name": "stdout",
          "text": [
            "peak memory: 1177.57 MiB, increment: 1.49 MiB\n",
            "CPU times: user 29.5 s, sys: 521 ms, total: 30.1 s\n",
            "Wall time: 30.2 s\n"
          ]
        }
      ]
    },
    {
      "cell_type": "markdown",
      "source": [
        "Applying K-Means using Jaccard distance as a distance metric and k=3"
      ],
      "metadata": {
        "id": "39UaPZOLYP7X"
      }
    },
    {
      "cell_type": "code",
      "source": [
        "kmeans_plot(kos_Kmeans[0],sparse_kos_matrix ,n_cluster=3)"
      ],
      "metadata": {
        "colab": {
          "base_uri": "https://localhost:8080/",
          "height": 252
        },
        "id": "6VXvN7fzV2A2",
        "outputId": "0bb3ac30-c714-48ce-aa26-6ba4847b92e3"
      },
      "execution_count": null,
      "outputs": [
        {
          "output_type": "display_data",
          "data": {
            "text/plain": [
              "<Figure size 432x288 with 1 Axes>"
            ],
            "image/png": "[encoded data removed]"
          },
          "metadata": {
            "needs_background": "light"
          }
        }
      ]
    },
    {
      "cell_type": "markdown",
      "source": [
        "Using PCA to visualize the clusters"
      ],
      "metadata": {
        "id": "PuLpeNmr5GpX"
      }
    },
    {
      "cell_type": "markdown",
      "source": [
        "## NIPS"
      ],
      "metadata": {
        "id": "Q8LLMlHZoxU4"
      }
    },
    {
      "cell_type": "code",
      "source": [
        "print(nips_data)"
      ],
      "metadata": {
        "id": "28LNPaFjqKx4",
        "colab": {
          "base_uri": "https://localhost:8080/"
        },
        "outputId": "0ce9b728-bc5d-41cc-a589-d95b76242e88"
      },
      "execution_count": null,
      "outputs": [
        {
          "output_type": "stream",
          "name": "stdout",
          "text": [
            "        DocID  WordID  Count\n",
            "0           1       2      1\n",
            "1           1      39      1\n",
            "2           1      42      3\n",
            "3           1      77      1\n",
            "4           1      95      1\n",
            "...       ...     ...    ...\n",
            "746311   1500   12382      1\n",
            "746312   1500   12388      3\n",
            "746313   1500   12390      1\n",
            "746314   1500   12393      1\n",
            "746315   1500   12414      1\n",
            "\n",
            "[746316 rows x 3 columns]\n"
          ]
        }
      ]
    },
    {
      "cell_type": "code",
      "source": [
        "nips_doc_count = nips_data[\"DocID\"].nunique()\n",
        "nips_word_count = max(nips_data[\"WordID\"])\n",
        "nips_doc_count, nips_word_count"
      ],
      "metadata": {
        "id": "s7xbrsZDqKx6",
        "colab": {
          "base_uri": "https://localhost:8080/"
        },
        "outputId": "7291c3e7-22b6-4179-92a5-9775584939a1"
      },
      "execution_count": null,
      "outputs": [
        {
          "output_type": "execute_result",
          "data": {
            "text/plain": [
              "(1500, 12419)"
            ]
          },
          "metadata": {},
          "execution_count": 33
        }
      ]
    },
    {
      "cell_type": "markdown",
      "source": [
        "Count of unique documents and words in NIPS"
      ],
      "metadata": {
        "id": "TuqdRsM1YjBu"
      }
    },
    {
      "cell_type": "code",
      "source": [
        "nips_matrix = np.zeros((nips_word_count,nips_doc_count), dtype=np.int64)"
      ],
      "metadata": {
        "id": "RNQ9rSWQqKx7"
      },
      "execution_count": null,
      "outputs": []
    },
    {
      "cell_type": "code",
      "source": [
        "for i in range(nips_data.shape[0]):\n",
        "  word_pos = int(nips_data.WordID[i])\n",
        "  doc_pos = int(nips_data.DocID[i])\n",
        "  nips_matrix[word_pos-1][doc_pos-1] = int(nips_data.Count[i])"
      ],
      "metadata": {
        "id": "4KTbXOaFqKx8"
      },
      "execution_count": null,
      "outputs": []
    },
    {
      "cell_type": "markdown",
      "source": [
        "Creating a matrix of bag of words with each column representing a document vector"
      ],
      "metadata": {
        "id": "3i_9fM_1YoVb"
      }
    },
    {
      "cell_type": "code",
      "source": [
        "sparse_nips_matrix = np.where(nips_matrix>0,1,0)\n",
        "nips_mat_df = pd.DataFrame(sparse_nips_matrix,index=pd.RangeIndex(start=1,stop=nips_word_count+1),columns=range(1,nips_doc_count+1))"
      ],
      "metadata": {
        "id": "k57WO_tSqKx8"
      },
      "execution_count": null,
      "outputs": []
    },
    {
      "cell_type": "markdown",
      "source": [
        "Creating a matrix of set of words"
      ],
      "metadata": {
        "id": "w_vgOZdX6poy"
      }
    },
    {
      "cell_type": "code",
      "source": [
        "%%time\n",
        "nips_jac_dis_mat = pairwise_distances(np.transpose(nips_matrix), metric='jaccard')"
      ],
      "metadata": {
        "colab": {
          "base_uri": "https://localhost:8080/"
        },
        "outputId": "5c9bac06-e880-4ce4-a16a-0b18922eade6",
        "id": "lVTJ8v0YqKx9"
      },
      "execution_count": null,
      "outputs": [
        {
          "output_type": "stream",
          "name": "stderr",
          "text": [
            "/usr/local/lib/python3.7/dist-packages/sklearn/metrics/pairwise.py:1875: DataConversionWarning: Data was converted to boolean for metric jaccard\n",
            "  warnings.warn(msg, DataConversionWarning)\n"
          ]
        },
        {
          "output_type": "stream",
          "name": "stdout",
          "text": [
            "CPU times: user 20.2 s, sys: 12.7 ms, total: 20.2 s\n",
            "Wall time: 20.1 s\n"
          ]
        }
      ]
    },
    {
      "cell_type": "markdown",
      "source": [
        "Matrix of Jaccard Distance"
      ],
      "metadata": {
        "id": "uZvOeMt86td8"
      }
    },
    {
      "cell_type": "code",
      "source": [
        "nips_jac_mat = np.round(1-nips_jac_dis_mat,4)"
      ],
      "metadata": {
        "id": "RkRMZbQrqKx9"
      },
      "execution_count": null,
      "outputs": []
    },
    {
      "cell_type": "markdown",
      "source": [
        "Matrix of Jaccard Index"
      ],
      "metadata": {
        "id": "Qns_yEPd6wIG"
      }
    },
    {
      "cell_type": "markdown",
      "source": [
        "### Alternative Method to calculate Jaccard Index"
      ],
      "metadata": {
        "id": "_gtjs_06qKx-"
      }
    },
    {
      "cell_type": "code",
      "source": [
        "# def jaccard(x,y):\n",
        "#     z=set(x).intersection(set(y))\n",
        "#     a=float(len(z))/(len(x)+len(y)-len(z))\n",
        "#     return a"
      ],
      "metadata": {
        "id": "5mqsiFK0qKx-"
      },
      "execution_count": null,
      "outputs": []
    },
    {
      "cell_type": "code",
      "source": [
        "# doc_dict = {}\n",
        "# for i in range(int(nips_data.shape[0])):\n",
        "#   doc_index = nips_data.DocID[i]\n",
        "#   if doc_index in doc_dict.keys():\n",
        "#     doc_dict[doc_index].append(nips_data.WordID[i])\n",
        "#   else:\n",
        "#     doc_dict[doc_index] = [nips_data.WordID[i]]"
      ],
      "metadata": {
        "id": "oULdg2_zqKx_"
      },
      "execution_count": null,
      "outputs": []
    },
    {
      "cell_type": "code",
      "source": [
        "# jacma = np.zeros((nips_doc_count,nips_doc_count), dtype=np.float64)\n",
        "# for i in range(1,nips_doc_count+1):\n",
        "#   for j in range(i,nips_doc_count+1):\n",
        "#     jacma[i-1][j-1] = jacma[j-1][i-1] = np.round(jaccard(doc_dict[i],doc_dict[j]),4)"
      ],
      "metadata": {
        "id": "ptIa7YDMqKx_"
      },
      "execution_count": null,
      "outputs": []
    },
    {
      "cell_type": "markdown",
      "source": [
        "### Optimising the value of k for NIPS"
      ],
      "metadata": {
        "id": "ynrthuCFqKyA"
      }
    },
    {
      "cell_type": "code",
      "source": [
        "elbow(nips_mat_df,nips_jac_dis_mat,11,200)"
      ],
      "metadata": {
        "colab": {
          "base_uri": "https://localhost:8080/",
          "height": 404
        },
        "outputId": "ce77bbec-3f1c-4993-abe3-c162190d93df",
        "id": "DcmkLuEuqKyA"
      },
      "execution_count": null,
      "outputs": [
        {
          "output_type": "display_data",
          "data": {
            "text/plain": [
              "<Figure size 864x432 with 1 Axes>"
            ],
            "image/png": "[encoded data removed]"
          },
          "metadata": {
            "needs_background": "light"
          }
        }
      ]
    },
    {
      "cell_type": "code",
      "source": [
        "%%time\n",
        "%%memit\n",
        "nips_Kmeans = J_kmeans(nips_mat_df,nips_jac_dis_mat,3,100)"
      ],
      "metadata": {
        "id": "5d31SXqbqKyA",
        "colab": {
          "base_uri": "https://localhost:8080/"
        },
        "outputId": "4dd57050-6e19-4e86-9701-519aeb5c2fcb"
      },
      "execution_count": null,
      "outputs": [
        {
          "output_type": "stream",
          "name": "stdout",
          "text": [
            "peak memory: 1549.71 MiB, increment: 0.07 MiB\n",
            "CPU times: user 11 s, sys: 204 ms, total: 11.2 s\n",
            "Wall time: 11.3 s\n"
          ]
        }
      ]
    },
    {
      "cell_type": "markdown",
      "source": [
        "Applying K-Means using Jaccard distance as a distance metric and k=3."
      ],
      "metadata": {
        "id": "Tj5sjyuSYwrJ"
      }
    },
    {
      "cell_type": "code",
      "source": [
        "kmeans_plot(nips_Kmeans[0],sparse_nips_matrix ,n_cluster=3)"
      ],
      "metadata": {
        "colab": {
          "base_uri": "https://localhost:8080/",
          "height": 252
        },
        "id": "bx-SBogWxD_Y",
        "outputId": "8eca7534-88c1-4081-b63c-a8ba4b06917e"
      },
      "execution_count": null,
      "outputs": [
        {
          "output_type": "display_data",
          "data": {
            "text/plain": [
              "<Figure size 432x288 with 1 Axes>"
            ],
            "image/png": "[encoded data removed]"
          },
          "metadata": {
            "needs_background": "light"
          }
        }
      ]
    },
    {
      "cell_type": "markdown",
      "source": [
        "Using PCA to visualize the clusters"
      ],
      "metadata": {
        "id": "b9O0zW9b7Qj-"
      }
    },
    {
      "cell_type": "markdown",
      "source": [
        "#ENRON"
      ],
      "metadata": {
        "id": "F8y3tJ4GIL0Z"
      }
    },
    {
      "cell_type": "code",
      "source": [
        "print(enron_data)"
      ],
      "metadata": {
        "colab": {
          "base_uri": "https://localhost:8080/"
        },
        "outputId": "6cbc58cf-b2eb-4aaf-be23-07db8fd9fe55",
        "id": "06nPhAvlRTl1"
      },
      "execution_count": null,
      "outputs": [
        {
          "output_type": "stream",
          "name": "stdout",
          "text": [
            "         DocID  WordID  Count\n",
            "0            1     118      1\n",
            "1            1     285      1\n",
            "2            1    1229      1\n",
            "3            1    1688      1\n",
            "4            1    2068      1\n",
            "...        ...     ...    ...\n",
            "3710415  39861   18448      1\n",
            "3710416  39861   18848      1\n",
            "3710417  39861   23449      1\n",
            "3710418  39861   25721      1\n",
            "3710419  39861   27196      1\n",
            "\n",
            "[3710420 rows x 3 columns]\n"
          ]
        }
      ]
    },
    {
      "cell_type": "code",
      "source": [
        "df2 = enron_data['DocID'].value_counts().to_frame().reset_index()\n",
        "df2.columns = [\"DocID\",\"Freq\"]\n",
        "df3 = df2[df2[\"Freq\"]>200] #docs with more than 200 distinct words ignoring the multiplicity of a word\n",
        "df3"
      ],
      "metadata": {
        "colab": {
          "base_uri": "https://localhost:8080/",
          "height": 424
        },
        "id": "PcRHRAfFR6yF",
        "outputId": "0c08b77b-ae91-4a9b-9b23-533399b8614e"
      },
      "execution_count": null,
      "outputs": [
        {
          "output_type": "execute_result",
          "data": {
            "text/plain": [
              "      DocID  Freq\n",
              "0     30671  2120\n",
              "1     33962  2120\n",
              "2     31445  2075\n",
              "3     28980  2050\n",
              "4     33931  2050\n",
              "...     ...   ...\n",
              "3648  26667   201\n",
              "3649  27598   201\n",
              "3650  12894   201\n",
              "3651   9272   201\n",
              "3652  13538   201\n",
              "\n",
              "[3653 rows x 2 columns]"
            ],
            "text/html": [
              "\n",
              "  <div id=\"df-891835dc-bb6d-46f8-8916-fa2657f197cd\">\n",
              "    <div class=\"colab-df-container\">\n",
              "      <div>\n",
              "<style scoped>\n",
              "    .dataframe tbody tr th:only-of-type {\n",
              "        vertical-align: middle;\n",
              "    }\n",
              "\n",
              "    .dataframe tbody tr th {\n",
              "        vertical-align: top;\n",
              "    }\n",
              "\n",
              "    .dataframe thead th {\n",
              "        text-align: right;\n",
              "    }\n",
              "</style>\n",
              "<table border=\"1\" class=\"dataframe\">\n",
              "  <thead>\n",
              "    <tr style=\"text-align: right;\">\n",
              "      <th></th>\n",
              "      <th>DocID</th>\n",
              "      <th>Freq</th>\n",
              "    </tr>\n",
              "  </thead>\n",
              "  <tbody>\n",
              "    <tr>\n",
              "      <th>0</th>\n",
              "      <td>30671</td>\n",
              "      <td>2120</td>\n",
              "    </tr>\n",
              "    <tr>\n",
              "      <th>1</th>\n",
              "      <td>33962</td>\n",
              "      <td>2120</td>\n",
              "    </tr>\n",
              "    <tr>\n",
              "      <th>2</th>\n",
              "      <td>31445</td>\n",
              "      <td>2075</td>\n",
              "    </tr>\n",
              "    <tr>\n",
              "      <th>3</th>\n",
              "      <td>28980</td>\n",
              "      <td>2050</td>\n",
              "    </tr>\n",
              "    <tr>\n",
              "      <th>4</th>\n",
              "      <td>33931</td>\n",
              "      <td>2050</td>\n",
              "    </tr>\n",
              "    <tr>\n",
              "      <th>...</th>\n",
              "      <td>...</td>\n",
              "      <td>...</td>\n",
              "    </tr>\n",
              "    <tr>\n",
              "      <th>3648</th>\n",
              "      <td>26667</td>\n",
              "      <td>201</td>\n",
              "    </tr>\n",
              "    <tr>\n",
              "      <th>3649</th>\n",
              "      <td>27598</td>\n",
              "      <td>201</td>\n",
              "    </tr>\n",
              "    <tr>\n",
              "      <th>3650</th>\n",
              "      <td>12894</td>\n",
              "      <td>201</td>\n",
              "    </tr>\n",
              "    <tr>\n",
              "      <th>3651</th>\n",
              "      <td>9272</td>\n",
              "      <td>201</td>\n",
              "    </tr>\n",
              "    <tr>\n",
              "      <th>3652</th>\n",
              "      <td>13538</td>\n",
              "      <td>201</td>\n",
              "    </tr>\n",
              "  </tbody>\n",
              "</table>\n",
              "<p>3653 rows × 2 columns</p>\n",
              "</div>\n",
              "      <button class=\"colab-df-convert\" onclick=\"convertToInteractive('df-891835dc-bb6d-46f8-8916-fa2657f197cd')\"\n",
              "              title=\"Convert this dataframe to an interactive table.\"\n",
              "              style=\"display:none;\">\n",
              "        \n",
              "  <svg xmlns=\"http://www.w3.org/2000/svg\" height=\"24px\"viewBox=\"0 0 24 24\"\n",
              "       width=\"24px\">\n",
              "    <path d=\"M0 0h24v24H0V0z\" fill=\"none\"/>\n",
              "    <path d=\"M18.56 5.44l.94 2.06.94-2.06 2.06-.94-2.06-.94-.94-2.06-.94 2.06-2.06.94zm-11 1L8.5 8.5l.94-2.06 2.06-.94-2.06-.94L8.5 2.5l-.94 2.06-2.06.94zm10 10l.94 2.06.94-2.06 2.06-.94-2.06-.94-.94-2.06-.94 2.06-2.06.94z\"/><path d=\"M17.41 7.96l-1.37-1.37c-.4-.4-.92-.59-1.43-.59-.52 0-1.04.2-1.43.59L10.3 9.45l-7.72 7.72c-.78.78-.78 2.05 0 2.83L4 21.41c.39.39.9.59 1.41.59.51 0 1.02-.2 1.41-.59l7.78-7.78 2.81-2.81c.8-.78.8-2.07 0-2.86zM5.41 20L4 18.59l7.72-7.72 1.47 1.35L5.41 20z\"/>\n",
              "  </svg>\n",
              "      </button>\n",
              "      \n",
              "  <style>\n",
              "    .colab-df-container {\n",
              "      display:flex;\n",
              "      flex-wrap:wrap;\n",
              "      gap: 12px;\n",
              "    }\n",
              "\n",
              "    .colab-df-convert {\n",
              "      background-color: #E8F0FE;\n",
              "      border: none;\n",
              "      border-radius: 50%;\n",
              "      cursor: pointer;\n",
              "      display: none;\n",
              "      fill: #1967D2;\n",
              "      height: 32px;\n",
              "      padding: 0 0 0 0;\n",
              "      width: 32px;\n",
              "    }\n",
              "\n",
              "    .colab-df-convert:hover {\n",
              "      background-color: #E2EBFA;\n",
              "      box-shadow: 0px 1px 2px rgba(60, 64, 67, 0.3), 0px 1px 3px 1px rgba(60, 64, 67, 0.15);\n",
              "      fill: #174EA6;\n",
              "    }\n",
              "\n",
              "    [theme=dark] .colab-df-convert {\n",
              "      background-color: #3B4455;\n",
              "      fill: #D2E3FC;\n",
              "    }\n",
              "\n",
              "    [theme=dark] .colab-df-convert:hover {\n",
              "      background-color: #434B5C;\n",
              "      box-shadow: 0px 1px 3px 1px rgba(0, 0, 0, 0.15);\n",
              "      filter: drop-shadow(0px 1px 2px rgba(0, 0, 0, 0.3));\n",
              "      fill: #FFFFFF;\n",
              "    }\n",
              "  </style>\n",
              "\n",
              "      <script>\n",
              "        const buttonEl =\n",
              "          document.querySelector('#df-891835dc-bb6d-46f8-8916-fa2657f197cd button.colab-df-convert');\n",
              "        buttonEl.style.display =\n",
              "          google.colab.kernel.accessAllowed ? 'block' : 'none';\n",
              "\n",
              "        async function convertToInteractive(key) {\n",
              "          const element = document.querySelector('#df-891835dc-bb6d-46f8-8916-fa2657f197cd');\n",
              "          const dataTable =\n",
              "            await google.colab.kernel.invokeFunction('convertToInteractive',\n",
              "                                                     [key], {});\n",
              "          if (!dataTable) return;\n",
              "\n",
              "          const docLinkHtml = 'Like what you see? Visit the ' +\n",
              "            '<a target=\"_blank\" href=https://colab.research.google.com/notebooks/data_table.ipynb>data table notebook</a>'\n",
              "            + ' to learn more about interactive tables.';\n",
              "          element.innerHTML = '';\n",
              "          dataTable['output_type'] = 'display_data';\n",
              "          await google.colab.output.renderOutput(dataTable, element);\n",
              "          const docLink = document.createElement('div');\n",
              "          docLink.innerHTML = docLinkHtml;\n",
              "          element.appendChild(docLink);\n",
              "        }\n",
              "      </script>\n",
              "    </div>\n",
              "  </div>\n",
              "  "
            ]
          },
          "metadata": {},
          "execution_count": 46
        }
      ]
    },
    {
      "cell_type": "code",
      "source": [
        "doclist=df3[\"DocID\"].to_numpy()"
      ],
      "metadata": {
        "id": "9HEtjAdIUkCy"
      },
      "execution_count": null,
      "outputs": []
    },
    {
      "cell_type": "code",
      "source": [
        "doc_dict = {}\n",
        "for i in range(int(enron_data.shape[0])):\n",
        "  doc_index = enron_data.DocID[i]\n",
        "  if doc_index in doclist:\n",
        "    if doc_index in doc_dict.keys():\n",
        "      doc_dict[doc_index].append(enron_data.WordID[i])\n",
        "    else:\n",
        "      doc_dict[doc_index] = [enron_data.WordID[i]]"
      ],
      "metadata": {
        "id": "sMIBGuTBSsBM"
      },
      "execution_count": null,
      "outputs": []
    },
    {
      "cell_type": "code",
      "source": [
        "enron_doc_count = len(doclist)\n",
        "enron_word_count = max(enron_data[\"WordID\"])"
      ],
      "metadata": {
        "id": "z-wV9AtRRTl3"
      },
      "execution_count": null,
      "outputs": []
    },
    {
      "cell_type": "code",
      "source": [
        "enron_doc_count, enron_word_count"
      ],
      "metadata": {
        "colab": {
          "base_uri": "https://localhost:8080/"
        },
        "outputId": "d469d0eb-c1fe-4778-bbb3-fb0a4ce9bea4",
        "id": "_xTI_2fQRTl3"
      },
      "execution_count": null,
      "outputs": [
        {
          "output_type": "execute_result",
          "data": {
            "text/plain": [
              "(3653, 28102)"
            ]
          },
          "metadata": {},
          "execution_count": 50
        }
      ]
    },
    {
      "cell_type": "code",
      "source": [
        "enron_matrix = np.zeros((enron_word_count,enron_doc_count), dtype=np.int64)"
      ],
      "metadata": {
        "id": "7L9ZGx15RTl4"
      },
      "execution_count": null,
      "outputs": []
    },
    {
      "cell_type": "code",
      "source": [
        "doc_pointer = 0\n",
        "for doc_index in doc_dict:\n",
        "  for word_index in doc_dict[doc_index]:\n",
        "    enron_matrix[word_index-1][doc_pointer] = 1\n",
        "  doc_pointer+=1"
      ],
      "metadata": {
        "id": "XhHFUSWQRTl4"
      },
      "execution_count": null,
      "outputs": []
    },
    {
      "cell_type": "code",
      "source": [
        "enron_mat_df = pd.DataFrame(enron_matrix,index=pd.RangeIndex(start=1,stop=enron_word_count+1),columns=range(1,enron_doc_count+1))"
      ],
      "metadata": {
        "id": "sgnCZvg_TPvX"
      },
      "execution_count": null,
      "outputs": []
    },
    {
      "cell_type": "code",
      "source": [
        "%%time\n",
        "enron_jac_dis_mat = pairwise_distances(np.transpose(enron_matrix), metric='jaccard')"
      ],
      "metadata": {
        "colab": {
          "base_uri": "https://localhost:8080/"
        },
        "outputId": "f45bff48-b006-4cb8-b9bb-567ef26423e6",
        "id": "OCQyyA44RTl5"
      },
      "execution_count": null,
      "outputs": [
        {
          "output_type": "stream",
          "name": "stderr",
          "text": [
            "/usr/local/lib/python3.7/dist-packages/sklearn/metrics/pairwise.py:1875: DataConversionWarning: Data was converted to boolean for metric jaccard\n",
            "  warnings.warn(msg, DataConversionWarning)\n"
          ]
        },
        {
          "output_type": "stream",
          "name": "stdout",
          "text": [
            "CPU times: user 4min 43s, sys: 290 ms, total: 4min 43s\n",
            "Wall time: 4min 50s\n"
          ]
        }
      ]
    },
    {
      "cell_type": "code",
      "source": [
        "enron_jac_mat = np.round(1-enron_jac_dis_mat,4)"
      ],
      "metadata": {
        "id": "aYxrqgvmRTl5"
      },
      "execution_count": null,
      "outputs": []
    },
    {
      "cell_type": "markdown",
      "source": [
        "### Optimising the value of k for ENRON"
      ],
      "metadata": {
        "id": "JgAb3CdgRTl7"
      }
    },
    {
      "cell_type": "code",
      "source": [
        "elbow(enron_mat_df,enron_jac_dis_mat,11,200)"
      ],
      "metadata": {
        "colab": {
          "base_uri": "https://localhost:8080/",
          "height": 404
        },
        "outputId": "6edd81a9-6018-4aa9-94a4-845958dfbd7d",
        "id": "ZjgP8xNzRTl7"
      },
      "execution_count": null,
      "outputs": [
        {
          "output_type": "display_data",
          "data": {
            "text/plain": [
              "<Figure size 864x432 with 1 Axes>"
            ],
            "image/png": "[encoded data removed]"
          },
          "metadata": {
            "needs_background": "light"
          }
        }
      ]
    },
    {
      "cell_type": "code",
      "source": [
        "%%time\n",
        "%%memit\n",
        "enron_Kmeans = J_kmeans(enron_mat_df,enron_jac_dis_mat,3,100)"
      ],
      "metadata": {
        "colab": {
          "base_uri": "https://localhost:8080/"
        },
        "id": "98rTWKZsRTl7",
        "outputId": "8d6aa40c-1f35-48d2-e126-2cec0de73dbc"
      },
      "execution_count": null,
      "outputs": [
        {
          "output_type": "stream",
          "name": "stdout",
          "text": [
            "peak memory: 2823.36 MiB, increment: 2.25 MiB\n",
            "CPU times: user 37.3 s, sys: 459 ms, total: 37.7 s\n",
            "Wall time: 40.7 s\n"
          ]
        }
      ]
    },
    {
      "cell_type": "markdown",
      "source": [
        "Applying K-Means using Jaccard distance as a distance metric and k=3"
      ],
      "metadata": {
        "id": "GyZzZlasJBk0"
      }
    },
    {
      "cell_type": "code",
      "source": [
        "kmeans_plot(enron_Kmeans[0],enron_matrix ,n_cluster=3)"
      ],
      "metadata": {
        "colab": {
          "base_uri": "https://localhost:8080/",
          "height": 252
        },
        "id": "GjY1ax7bbMWl",
        "outputId": "1ddb6e0a-f626-416b-8b15-b32b7ef8e7df"
      },
      "execution_count": null,
      "outputs": [
        {
          "output_type": "display_data",
          "data": {
            "text/plain": [
              "<Figure size 432x288 with 1 Axes>"
            ],
            "image/png": "[encoded data removed]"
          },
          "metadata": {
            "needs_background": "light"
          }
        }
      ]
    },
    {
      "cell_type": "markdown",
      "source": [
        "Using PCA to visualize the clusters"
      ],
      "metadata": {
        "id": "ykYzbz7aJDxl"
      }
    }
  ]
}