{
 "cells": [
  {
   "cell_type": "markdown",
   "id": "c41ed303",
   "metadata": {},
   "source": [
    "# Assignment 3 "
   ]
  },
  {
   "cell_type": "markdown",
   "id": "bdb29996",
   "metadata": {},
   "source": [
    "## Q-Learning on Cartpole"
   ]
  },
  {
   "cell_type": "markdown",
   "id": "4e77beb6",
   "metadata": {},
   "source": [
    "### Rajas Vaidya (MDS202131)\n",
    "### Rishika Tibrewal (MDS202135)\n",
    "### Shreyansh Rastogi (MDS202144)"
   ]
  },
  {
   "cell_type": "code",
   "execution_count": 1,
   "id": "1c1ed3f2",
   "metadata": {},
   "outputs": [],
   "source": [
    "%matplotlib inline"
   ]
  },
  {
   "cell_type": "code",
   "execution_count": 2,
   "id": "c391370f",
   "metadata": {},
   "outputs": [],
   "source": [
    "import gym\n",
    "import math\n",
    "import random\n",
    "import numpy as np\n",
    "import matplotlib\n",
    "import matplotlib.pyplot as plt\n",
    "from collections import namedtuple, deque\n",
    "from itertools import count\n",
    "from PIL import Image\n",
    "import warnings\n",
    "warnings.filterwarnings(\"ignore\")\n",
    "\n",
    "import matplotlib.pyplot as plt \n",
    "\n",
    "# if gpu is to be used\n",
    "device = torch.device(\"cuda\" if torch.cuda.is_available() else \"cpu\")"
   ]
  },
  {
   "cell_type": "code",
   "execution_count": 3,
   "id": "46cc89db",
   "metadata": {},
   "outputs": [
    {
     "name": "stdout",
     "output_type": "stream",
     "text": [
      "2\n"
     ]
    }
   ],
   "source": [
    "#set up the environment\n",
    "env = gym.make(\"CartPole-v1\", render_mode=\"rgb_array\")\n",
    "print(env.action_space.n)"
   ]
  },
  {
   "cell_type": "code",
   "execution_count": 4,
   "id": "080cb210",
   "metadata": {},
   "outputs": [
    {
     "data": {
      "image/png": "[encoded data removed]",
      "text/plain": [
       "<Figure size 432x288 with 1 Axes>"
      ]
     },
     "metadata": {
      "needs_background": "light"
     },
     "output_type": "display_data"
    }
   ],
   "source": [
    "env.reset()\n",
    "frame = env.render()\n",
    "plt.imshow(frame)\n",
    "plt.grid(False)"
   ]
  },
  {
   "cell_type": "markdown",
   "id": "e3bef46a",
   "metadata": {},
   "source": [
    "### To save an episode as gif and display it later"
   ]
  },
  {
   "cell_type": "code",
   "execution_count": 5,
   "id": "f3a38365",
   "metadata": {},
   "outputs": [],
   "source": [
    "import imageio\n",
    "import os\n",
    "from IPython.display import HTML\n",
    "\n",
    "def save_frames_as_gif(frames, path='./', filename='gym_animation.gif'):\n",
    "    imageio.mimwrite(os.path.join(path, filename), frames, fps=50)"
   ]
  },
  {
   "cell_type": "markdown",
   "id": "f72a8ea4",
   "metadata": {},
   "source": [
    "### Getting a sample episode"
   ]
  },
  {
   "cell_type": "code",
   "execution_count": 6,
   "id": "19fc5367",
   "metadata": {},
   "outputs": [],
   "source": [
    "frames = []\n",
    "env.reset()\n",
    "total_reward = 0\n",
    "for i in range(100):\n",
    "    action = env.action_space.sample()\n",
    "    next_state, reward, terminated, truncated, info = env.step(action)\n",
    "    done = terminated or truncated\n",
    "    total_reward += reward\n",
    "    frame = env.render()\n",
    "    frames.append(frame)\n",
    "    if done:\n",
    "        break"
   ]
  },
  {
   "cell_type": "code",
   "execution_count": 7,
   "id": "c0d90852",
   "metadata": {},
   "outputs": [
    {
     "name": "stdout",
     "output_type": "stream",
     "text": [
      "Game terminated after 32  steps with reward  32.0\n"
     ]
    },
    {
     "data": {
      "text/html": [
       "<img src=\"./random_agent.gif\">"
      ],
      "text/plain": [
       "<IPython.core.display.HTML object>"
      ]
     },
     "execution_count": 7,
     "metadata": {},
     "output_type": "execute_result"
    }
   ],
   "source": [
    "print(\"Game terminated after\", len(frames), \" steps with reward \", total_reward)\n",
    "save_frames_as_gif(frames, path='./', filename='random_agent.gif')\n",
    "HTML('<img src=\"./random_agent.gif\">')"
   ]
  },
  {
   "cell_type": "markdown",
   "id": "03c10c76",
   "metadata": {},
   "source": [
    "### Defining the hyperparameters"
   ]
  },
  {
   "cell_type": "code",
   "execution_count": 8,
   "id": "7035bb97",
   "metadata": {},
   "outputs": [],
   "source": [
    "LEARNING_RATE = 0.1\n",
    "\n",
    "DISCOUNT = 0.9\n",
    "EPISODES = 60000\n",
    "total = 0\n",
    "total_reward = 0\n",
    "prior_reward = 0\n",
    "\n",
    "Observation = [30, 30, 50, 50]\n",
    "np_array_win_size = np.array([0.25, 0.25, 0.01, 0.1])\n",
    "\n",
    "epsilon = 1\n",
    "\n",
    "epsilon_decay_value = 0.97"
   ]
  },
  {
   "cell_type": "code",
   "execution_count": 9,
   "id": "9dd8747a",
   "metadata": {},
   "outputs": [
    {
     "data": {
      "text/plain": [
       "(30, 30, 50, 50, 2)"
      ]
     },
     "execution_count": 9,
     "metadata": {},
     "output_type": "execute_result"
    }
   ],
   "source": [
    "q_table = np.random.uniform(low=0, high=1, size=(Observation + [env.action_space.n]))\n",
    "q_table.shape"
   ]
  },
  {
   "cell_type": "markdown",
   "id": "73e07a33",
   "metadata": {},
   "source": [
    "### To get the next state"
   ]
  },
  {
   "cell_type": "code",
   "execution_count": 10,
   "id": "cd493b2d",
   "metadata": {},
   "outputs": [],
   "source": [
    "def get_discrete_state(state):\n",
    "    discrete_state = state/np_array_win_size+ np.array([15,10,1,10])\n",
    "    return tuple(discrete_state.astype(np.int))"
   ]
  },
  {
   "cell_type": "markdown",
   "id": "76d753d6",
   "metadata": {},
   "source": [
    "### Applying Q Learning"
   ]
  },
  {
   "cell_type": "code",
   "execution_count": 11,
   "id": "bad5abf1",
   "metadata": {},
   "outputs": [
    {
     "name": "stdout",
     "output_type": "stream",
     "text": [
      "Completed Episode: 0\n",
      "Average: 36.0 Min: 36.0 Max: 36.0\n",
      "Completed Episode: 1000\n",
      "Completed Episode: 2000\n",
      "Completed Episode: 3000\n",
      "Completed Episode: 4000\n",
      "Completed Episode: 5000\n",
      "Average: 21.269 Min: 8.0 Max: 104.0\n",
      "Completed Episode: 6000\n",
      "Completed Episode: 7000\n",
      "Completed Episode: 8000\n",
      "Completed Episode: 9000\n",
      "Completed Episode: 10000\n",
      "Average: 22.716 Min: 8.0 Max: 118.0\n",
      "Completed Episode: 11000\n",
      "Completed Episode: 12000\n",
      "Completed Episode: 13000\n",
      "Completed Episode: 14000\n",
      "Completed Episode: 15000\n",
      "Average: 195.304 Min: 19.0 Max: 500.0\n",
      "Completed Episode: 16000\n",
      "Completed Episode: 17000\n",
      "Completed Episode: 18000\n",
      "Completed Episode: 19000\n",
      "Completed Episode: 20000\n",
      "Average: 199.613 Min: 17.0 Max: 500.0\n",
      "Completed Episode: 21000\n",
      "Completed Episode: 22000\n",
      "Completed Episode: 23000\n",
      "Completed Episode: 24000\n",
      "Completed Episode: 25000\n",
      "Average: 182.854 Min: 14.0 Max: 500.0\n",
      "Completed Episode: 26000\n",
      "Completed Episode: 27000\n",
      "Completed Episode: 28000\n",
      "Completed Episode: 29000\n",
      "Completed Episode: 30000\n",
      "Average: 170.885 Min: 13.0 Max: 500.0\n",
      "Completed Episode: 31000\n",
      "Completed Episode: 32000\n",
      "Completed Episode: 33000\n",
      "Completed Episode: 34000\n",
      "Completed Episode: 35000\n",
      "Average: 173.913 Min: 15.0 Max: 500.0\n",
      "Completed Episode: 36000\n",
      "Completed Episode: 37000\n",
      "Completed Episode: 38000\n",
      "Completed Episode: 39000\n",
      "Completed Episode: 40000\n",
      "Average: 199.864 Min: 21.0 Max: 500.0\n",
      "Completed Episode: 41000\n",
      "Completed Episode: 42000\n",
      "Completed Episode: 43000\n",
      "Completed Episode: 44000\n",
      "Completed Episode: 45000\n",
      "Average: 172.037 Min: 20.0 Max: 500.0\n",
      "Completed Episode: 46000\n",
      "Completed Episode: 47000\n",
      "Completed Episode: 48000\n",
      "Completed Episode: 49000\n",
      "Completed Episode: 50000\n",
      "Average: 170.57 Min: 24.0 Max: 500.0\n",
      "Completed Episode: 51000\n",
      "Completed Episode: 52000\n",
      "Completed Episode: 53000\n",
      "Completed Episode: 54000\n",
      "Completed Episode: 55000\n",
      "Average: 189.131 Min: 13.0 Max: 500.0\n",
      "Completed Episode: 56000\n",
      "Completed Episode: 57000\n",
      "Completed Episode: 58000\n",
      "Completed Episode: 59000\n",
      "Completed Episode: 60000\n",
      "Average: 202.514 Min: 17.0 Max: 500.0\n",
      "Complete\n"
     ]
    }
   ],
   "source": [
    "metrics = {'ep': [], 'avg': [], 'min': [], 'max': []}  # metrics recorded for graph\n",
    "scores = []\n",
    "for episode in range(EPISODES + 1): #go through the episodes\n",
    "#     t0 = time.time() #set the initial time\n",
    "    policy=[]\n",
    "    discrete_state = get_discrete_state(env.reset()[0]) #get the discrete start for the restarted environment \n",
    "    done = False\n",
    "    episode_reward = 0 #reward starts as 0 for each episode\n",
    "\n",
    "    if episode % 1000 == 0: \n",
    "        print(\"Completed Episode: \" + str(episode))\n",
    "\n",
    "    while not done: \n",
    "\n",
    "        if np.random.random() > epsilon:\n",
    "\n",
    "            action = np.argmax(q_table[discrete_state]) #take cordinated action\n",
    "        else:\n",
    "\n",
    "            action = np.random.randint(0, env.action_space.n) #do a random ation\n",
    "\n",
    "        new_state, reward, truncated, terminated, _ = env.step(action) #step action to get new states, reward, and the \"done\" status.\n",
    "        done=truncated or terminated\n",
    "        episode_reward += reward #add the reward\n",
    "\n",
    "        new_discrete_state = get_discrete_state(new_state)\n",
    "\n",
    "        if episode % 2000 == 0: #render\n",
    "            env.render()\n",
    "\n",
    "        if not done: #update q-table\n",
    "            max_future_q = np.max(q_table[new_discrete_state])\n",
    "\n",
    "            current_q = q_table[discrete_state + (action,)]\n",
    "\n",
    "            new_q = (1 - LEARNING_RATE) * current_q + LEARNING_RATE * (reward + DISCOUNT * max_future_q)\n",
    "\n",
    "            q_table[discrete_state + (action,)] = new_q\n",
    "        policy.append(action)\n",
    "        discrete_state = new_discrete_state\n",
    "\n",
    "    if epsilon > 0.05: #epsilon modification\n",
    "        if episode_reward > prior_reward and episode > 10000:\n",
    "            epsilon = math.pow(epsilon_decay_value, episode - 10000)\n",
    "\n",
    "            if episode % 500 == 0:\n",
    "                print(\"Epsilon: \" + str(epsilon))\n",
    "\n",
    "    total_reward += episode_reward #episode total reward\n",
    "    prior_reward = episode_reward\n",
    "    scores.append(episode_reward)\n",
    "\n",
    "    if episode % 5000 == 0: #every 5000 episodes print the average time and the average reward\n",
    "\n",
    "        mean_reward = total_reward / 5000\n",
    "#         print(\"Mean Reward: \" + str(mean_reward))\n",
    "        total_reward = 0\n",
    "        latestRuns = scores[-1000:]\n",
    "        mean_reward = sum(latestRuns) / len(latestRuns)\n",
    "        metrics['ep'].append(episode)\n",
    "        metrics['avg'].append(mean_reward)\n",
    "        metrics['min'].append(min(latestRuns))\n",
    "        metrics['max'].append(max(latestRuns))\n",
    "        print(\"Average:\", mean_reward, \"Min:\", min(latestRuns), \"Max:\", max(latestRuns))\n",
    "\n",
    "        \n",
    "env.close()\n",
    "print(\"Complete\")"
   ]
  },
  {
   "cell_type": "code",
   "execution_count": 12,
   "id": "b05f430b",
   "metadata": {},
   "outputs": [
    {
     "data": {
      "text/plain": [
       "<matplotlib.legend.Legend at 0x1b60a9e6f40>"
      ]
     },
     "execution_count": 12,
     "metadata": {},
     "output_type": "execute_result"
    },
    {
     "data": {
      "image/png": "[encoded data removed]",
      "text/plain": [
       "<Figure size 432x288 with 1 Axes>"
      ]
     },
     "metadata": {
      "needs_background": "light"
     },
     "output_type": "display_data"
    }
   ],
   "source": [
    "plt.plot(metrics['ep'], metrics['avg'], label=\"average rewards\")\n",
    "plt.plot(metrics['ep'], metrics['min'], label=\"min rewards\")\n",
    "plt.plot(metrics['ep'], metrics['max'], label=\"max rewards\")\n",
    "plt.legend(loc=4)"
   ]
  },
  {
   "cell_type": "markdown",
   "id": "5cc6c531",
   "metadata": {},
   "source": [
    "### Playing a sample game after learning"
   ]
  },
  {
   "cell_type": "code",
   "execution_count": 13,
   "id": "d570c704",
   "metadata": {},
   "outputs": [],
   "source": [
    "frames = []\n",
    "env.reset()\n",
    "done = False\n",
    "episode_reward = 0\n",
    "discrete_state = get_discrete_state(env.reset()[0])\n",
    "for i in range(500):\n",
    "    \n",
    "    action = np.argmax(q_table[discrete_state]) #take cordinated action\n",
    "    new_state, reward, terminated, truncated, info = env.step(action)\n",
    "    done = terminated or truncated\n",
    "    episode_reward += reward\n",
    "\n",
    "    # Observe new state\n",
    "    if not done:\n",
    "        discrete_state = get_discrete_state(new_state)\n",
    "    else:\n",
    "        break\n",
    "\n",
    "    frame = env.render()\n",
    "    frames.append(frame)\n",
    "\n",
    "    if done:\n",
    "        break"
   ]
  },
  {
   "cell_type": "code",
   "execution_count": 14,
   "id": "222177e2",
   "metadata": {},
   "outputs": [
    {
     "name": "stdout",
     "output_type": "stream",
     "text": [
      "Game terminated after 259 steps with reward 260.0\n"
     ]
    },
    {
     "data": {
      "text/html": [
       "<img src=\"./RL_agent.gif\">"
      ],
      "text/plain": [
       "<IPython.core.display.HTML object>"
      ]
     },
     "execution_count": 14,
     "metadata": {},
     "output_type": "execute_result"
    }
   ],
   "source": [
    "print(\"Game terminated after\", len(frames), \"steps with reward\", episode_reward)\n",
    "save_frames_as_gif(frames, path='./', filename='RL_agent.gif')\n",
    "HTML('<img src=\"./RL_agent.gif\">')"
   ]
  },
  {
   "cell_type": "markdown",
   "id": "d3c65324",
   "metadata": {},
   "source": [
    "## Second policy where reward is +2 when angle is in (-12,-6) or (6,12) else 0"
   ]
  },
  {
   "cell_type": "code",
   "execution_count": 15,
   "id": "3937aa0e",
   "metadata": {},
   "outputs": [],
   "source": [
    "env_2 = gym.make(\"CartPole-v1\", render_mode=\"rgb_array\")"
   ]
  },
  {
   "cell_type": "code",
   "execution_count": 16,
   "id": "e5f44410",
   "metadata": {},
   "outputs": [],
   "source": [
    "LEARNING_RATE = 0.1\n",
    "\n",
    "DISCOUNT = 0.9\n",
    "EPISODES = 70000\n",
    "total = 0\n",
    "total_reward = 0\n",
    "prior_reward = 0\n",
    "\n",
    "Observation = [30, 30, 50, 50]\n",
    "np_array_win_size = np.array([0.25, 0.25, 0.01, 0.1])\n",
    "\n",
    "epsilon = 1\n",
    "\n",
    "epsilon_decay_value = 0.99995"
   ]
  },
  {
   "cell_type": "code",
   "execution_count": 17,
   "id": "6166e150",
   "metadata": {},
   "outputs": [
    {
     "data": {
      "text/plain": [
       "(30, 30, 50, 50, 2)"
      ]
     },
     "execution_count": 17,
     "metadata": {},
     "output_type": "execute_result"
    }
   ],
   "source": [
    "q_table_2 = np.random.uniform(low=0, high=1, size=(Observation + [env_2.action_space.n]))\n",
    "q_table_2.shape"
   ]
  },
  {
   "cell_type": "markdown",
   "id": "f211d420",
   "metadata": {},
   "source": [
    "### Applying Q Learning on the modified Cartpole\n",
    "Converted degree to radian as the angle value is in radians"
   ]
  },
  {
   "cell_type": "code",
   "execution_count": 18,
   "id": "e485ceda",
   "metadata": {},
   "outputs": [
    {
     "name": "stdout",
     "output_type": "stream",
     "text": [
      "Completed Episode: 0\n",
      "Average: 8.0 Min: 8 Max: 8\n",
      "Completed Episode: 1000\n",
      "Average: 12.064 Min: 4 Max: 86\n",
      "Completed Episode: 2000\n",
      "Average: 12.294 Min: 4 Max: 82\n",
      "Completed Episode: 3000\n",
      "Average: 12.626 Min: 4 Max: 104\n",
      "Completed Episode: 4000\n",
      "Average: 12.234 Min: 4 Max: 86\n",
      "Completed Episode: 5000\n",
      "Average: 11.39 Min: 4 Max: 56\n",
      "Completed Episode: 6000\n",
      "Average: 11.782 Min: 4 Max: 78\n",
      "Completed Episode: 7000\n",
      "Average: 12.43 Min: 4 Max: 76\n",
      "Completed Episode: 8000\n",
      "Average: 12.036 Min: 4 Max: 84\n",
      "Completed Episode: 9000\n",
      "Average: 12.254 Min: 4 Max: 100\n",
      "Completed Episode: 10000\n",
      "Average: 12.18 Min: 4 Max: 96\n",
      "Completed Episode: 11000\n",
      "Average: 12.368 Min: 4 Max: 86\n",
      "Epsilon: 0.9277417467531685\n",
      "Completed Episode: 12000\n",
      "Epsilon: 0.9048351558698463\n",
      "Average: 12.692 Min: 4 Max: 90\n",
      "Epsilon: 0.8824941446941661\n",
      "Completed Episode: 13000\n",
      "Epsilon: 0.8607047486686201\n",
      "Average: 12.706 Min: 4 Max: 84\n",
      "Epsilon: 0.8394533480303666\n",
      "Completed Episode: 14000\n",
      "Epsilon: 0.818726659298009\n",
      "Average: 13.85 Min: 4 Max: 90\n",
      "Completed Episode: 15000\n",
      "Average: 13.636 Min: 4 Max: 82\n",
      "Epsilon: 0.7595669010105212\n",
      "Completed Episode: 16000\n",
      "Epsilon: 0.7408126643807126\n",
      "Average: 14.736 Min: 4 Max: 96\n",
      "Epsilon: 0.7225214829355084\n",
      "Completed Episode: 17000\n",
      "Epsilon: 0.7046819235193919\n",
      "Average: 14.982 Min: 4 Max: 100\n",
      "Epsilon: 0.687282835269431\n",
      "Completed Episode: 18000\n",
      "Average: 15.862 Min: 4 Max: 92\n",
      "Epsilon: 0.6537628386312633\n",
      "Completed Episode: 19000\n",
      "Average: 15.73 Min: 4 Max: 110\n",
      "Completed Episode: 20000\n",
      "Average: 16.484 Min: 4 Max: 80\n",
      "Completed Episode: 21000\n",
      "Average: 18.332 Min: 4 Max: 140\n",
      "Epsilon: 0.5626967797130051\n",
      "Completed Episode: 22000\n",
      "Epsilon: 0.5488034037068503\n",
      "Average: 18.336 Min: 4 Max: 86\n",
      "Epsilon: 0.5352530648457575\n",
      "Completed Episode: 23000\n",
      "Average: 19.198 Min: 4 Max: 98\n",
      "Epsilon: 0.5091478283790776\n",
      "Completed Episode: 24000\n",
      "Epsilon: 0.4965766133349901\n",
      "Average: 19.886 Min: 6 Max: 122\n",
      "Epsilon: 0.484315790359524\n",
      "Completed Episode: 25000\n",
      "Epsilon: 0.47235769565598784\n",
      "Average: 19.88 Min: 4 Max: 92\n",
      "Completed Episode: 26000\n",
      "Average: 20.154 Min: 4 Max: 122\n",
      "Completed Episode: 27000\n",
      "Epsilon: 0.4274058491752072\n",
      "Average: 20.606 Min: 4 Max: 88\n",
      "Epsilon: 0.41685290061763824\n",
      "Completed Episode: 28000\n",
      "Average: 22.59 Min: 4 Max: 108\n",
      "Epsilon: 0.396522249086328\n",
      "Completed Episode: 29000\n",
      "Average: 22.36 Min: 6 Max: 100\n",
      "Epsilon: 0.3771831593051582\n",
      "Completed Episode: 30000\n",
      "Average: 22.8 Min: 4 Max: 136\n",
      "Completed Episode: 31000\n",
      "Average: 23.892 Min: 4 Max: 120\n",
      "Epsilon: 0.3412885827413639\n",
      "Completed Episode: 32000\n",
      "Average: 25.194 Min: 4 Max: 108\n",
      "Completed Episode: 33000\n",
      "Average: 25.354 Min: 4 Max: 126\n",
      "Completed Episode: 34000\n",
      "Epsilon: 0.3011851759202241\n",
      "Average: 27.528 Min: 6 Max: 126\n",
      "Completed Episode: 35000\n",
      "Epsilon: 0.28649584342677675\n",
      "Average: 29.226 Min: 6 Max: 132\n",
      "Completed Episode: 36000\n",
      "Average: 29.712 Min: 6 Max: 116\n",
      "Epsilon: 0.2657941542182801\n",
      "Completed Episode: 37000\n",
      "Epsilon: 0.25923151114313064\n",
      "Average: 31.506 Min: 4 Max: 144\n",
      "Epsilon: 0.2528309043033471\n",
      "Completed Episode: 38000\n",
      "Average: 31.314 Min: 6 Max: 118\n",
      "Epsilon: 0.24049989496139146\n",
      "Completed Episode: 39000\n",
      "Epsilon: 0.23456178479157042\n",
      "Average: 32.582 Min: 6 Max: 122\n",
      "Completed Episode: 40000\n",
      "Epsilon: 0.22312179264543486\n",
      "Average: 34.508 Min: 6 Max: 130\n",
      "Completed Episode: 41000\n",
      "Average: 34.26 Min: 6 Max: 144\n",
      "Completed Episode: 42000\n",
      "Epsilon: 0.20188844202629158\n",
      "Average: 35.622 Min: 6 Max: 150\n",
      "Epsilon: 0.19690367556326213\n",
      "Completed Episode: 43000\n",
      "Average: 36.332 Min: 6 Max: 142\n",
      "Completed Episode: 44000\n",
      "Epsilon: 0.18267575990917997\n",
      "Average: 38.804 Min: 6 Max: 138\n",
      "Epsilon: 0.17816536796962992\n",
      "Completed Episode: 45000\n",
      "Epsilon: 0.17376634075333858\n",
      "Average: 37.04 Min: 6 Max: 124\n",
      "Completed Episode: 46000\n",
      "Epsilon: 0.1652914496910655\n",
      "Average: 39.798 Min: 6 Max: 136\n",
      "Completed Episode: 47000\n",
      "Average: 38.396 Min: 6 Max: 142\n",
      "Epsilon: 0.15334777825975254\n",
      "Completed Episode: 48000\n",
      "Average: 39.414 Min: 6 Max: 134\n",
      "Epsilon: 0.14586873652037563\n",
      "Completed Episode: 49000\n",
      "Epsilon: 0.1422671356634204\n",
      "Average: 41.432 Min: 6 Max: 144\n",
      "Completed Episode: 50000\n",
      "Epsilon: 0.13532851641609098\n",
      "Average: 43.292 Min: 6 Max: 148\n",
      "Completed Episode: 51000\n",
      "Epsilon: 0.12872830587316755\n",
      "Average: 44.056 Min: 6 Max: 146\n",
      "Completed Episode: 52000\n",
      "Average: 44.556 Min: 4 Max: 136\n",
      "Epsilon: 0.11942662334734862\n",
      "Completed Episode: 53000\n",
      "Epsilon: 0.11647789670960881\n",
      "Average: 48.21 Min: 6 Max: 144\n",
      "Completed Episode: 54000\n",
      "Epsilon: 0.11079706415310193\n",
      "Average: 52.262 Min: 6 Max: 162\n",
      "Epsilon: 0.10806140735150761\n",
      "Completed Episode: 55000\n",
      "Epsilon: 0.10539329582463075\n",
      "Average: 52.518 Min: 4 Max: 144\n",
      "Completed Episode: 56000\n",
      "Epsilon: 0.10025307881289336\n",
      "Average: 52.832 Min: 6 Max: 148\n",
      "Epsilon: 0.09777776036441635\n",
      "Completed Episode: 57000\n",
      "Epsilon: 0.09536355925511658\n",
      "Average: 54.458 Min: 6 Max: 164\n",
      "Epsilon: 0.09300896645525675\n",
      "Completed Episode: 58000\n",
      "Epsilon: 0.09071251019409635\n",
      "Average: 52.878 Min: 6 Max: 130\n",
      "Completed Episode: 59000\n",
      "Average: 56.264 Min: 6 Max: 160\n",
      "Epsilon: 0.08415778265983555\n",
      "Completed Episode: 60000\n",
      "Epsilon: 0.08207986830082019\n",
      "Average: 57.612 Min: 6 Max: 154\n",
      "Epsilon: 0.08005325909679988\n",
      "Completed Episode: 61000\n",
      "Epsilon: 0.07807668828770933\n",
      "Average: 57.084 Min: 6 Max: 148\n",
      "Completed Episode: 62000\n",
      "Epsilon: 0.0742687504277491\n",
      "Average: 55.086 Min: 8 Max: 142\n",
      "Completed Episode: 63000\n",
      "Average: 52.388 Min: 6 Max: 160\n",
      "Completed Episode: 64000\n",
      "Epsilon: 0.06720097636955107\n",
      "Average: 50.882 Min: 6 Max: 162\n",
      "Epsilon: 0.06554173738624092\n",
      "Completed Episode: 65000\n",
      "Epsilon: 0.06392346617084825\n",
      "Average: 51.08 Min: 8 Max: 160\n",
      "Epsilon: 0.0623451512006057\n",
      "Completed Episode: 66000\n",
      "Epsilon: 0.0608058059279486\n",
      "Average: 51.16 Min: 8 Max: 146\n",
      "Epsilon: 0.059304468163859834\n",
      "Completed Episode: 67000\n",
      "Epsilon: 0.05784019947644033\n",
      "Average: 59.378 Min: 6 Max: 172\n",
      "Completed Episode: 68000\n",
      "Average: 64.102 Min: 6 Max: 148\n",
      "Epsilon: 0.05366076769482445\n",
      "Completed Episode: 69000\n",
      "Epsilon: 0.05233584590880789\n",
      "Average: 60.258 Min: 6 Max: 156\n",
      "Completed Episode: 70000\n",
      "Average: 59.61 Min: 8 Max: 162\n",
      "Complete\n"
     ]
    }
   ],
   "source": [
    "metrics = {'ep': [], 'avg': [], 'min': [], 'max': []}  # metrics recorded for graph\n",
    "scores = []\n",
    "for episode in range(EPISODES + 1): #go through the episodes\n",
    "    policy=[]\n",
    "    discrete_state = get_discrete_state(env_2.reset()[0]) #get the discrete start for the restarted environment \n",
    "    done = False\n",
    "    episode_reward = 0 #reward starts as 0 for each episode\n",
    "\n",
    "    if episode % 1000 == 0: \n",
    "        print(\"Completed Episode: \" + str(episode))\n",
    "\n",
    "    while not done: \n",
    "        \n",
    "        if np.random.random() > epsilon:\n",
    "            action = np.argmax(q_table_2[discrete_state]) #take cordinated action\n",
    "        else:\n",
    "            action = np.random.randint(0, env_2.action_space.n) #do a random ation\n",
    "        \n",
    "        new_state, reward, truncated, terminated, _ = env_2.step(action) #step action to get new states, reward, and the \"done\" status.\n",
    "        done=truncated or terminated\n",
    "        \n",
    "        if -(12*np.pi)/180 < new_state[2] < -(6*np.pi)/180 or (12*np.pi)/180 > new_state[2] > (6*np.pi)/180:\n",
    "            reward = 2\n",
    "        else:\n",
    "            reward = 0\n",
    "        \n",
    "        episode_reward += reward #add the reward\n",
    "        \n",
    "        new_discrete_state = get_discrete_state(new_state)\n",
    "\n",
    "        if episode % 1000 == 0: #render\n",
    "            env_2.render()\n",
    "\n",
    "        if not done: #update q-table\n",
    "            max_future_q = np.max(q_table_2[new_discrete_state])\n",
    "\n",
    "            current_q = q_table_2[discrete_state + (action,)]\n",
    "\n",
    "            new_q = (1 - LEARNING_RATE) * current_q + LEARNING_RATE * (reward + DISCOUNT * max_future_q)\n",
    "\n",
    "            q_table_2[discrete_state + (action,)] = new_q\n",
    "        policy.append(action)\n",
    "        discrete_state = new_discrete_state\n",
    "#         discrete_state = new_state\n",
    "        \n",
    "    if epsilon > 0.05: #epsilon modification\n",
    "        if episode_reward > prior_reward and episode > 10000:\n",
    "            epsilon = math.pow(epsilon_decay_value, episode - 10000)\n",
    "            if episode % 500 == 0:\n",
    "                print(\"Epsilon: \" + str(epsilon))\n",
    "\n",
    "    total_reward += episode_reward #episode total reward\n",
    "    prior_reward = episode_reward\n",
    "    scores.append(episode_reward)\n",
    "\n",
    "    if episode % 1000 == 0: #every 1000 episodes print the average time and the average reward\n",
    "\n",
    "        mean_reward = total_reward / 1000\n",
    "#         print(\"Mean Reward: \" + str(mean_reward))\n",
    "        total_reward = 0\n",
    "        \n",
    "        latestRuns = scores[-1000:]\n",
    "        mean_reward = sum(latestRuns) / len(latestRuns)\n",
    "        metrics['ep'].append(episode)\n",
    "        metrics['avg'].append(mean_reward)\n",
    "        metrics['min'].append(min(latestRuns))\n",
    "        metrics['max'].append(max(latestRuns))\n",
    "        print(\"Average:\", mean_reward, \"Min:\", min(latestRuns), \"Max:\", max(latestRuns))\n",
    "      \n",
    "env_2.close()\n",
    "print(\"Complete\")"
   ]
  },
  {
   "cell_type": "code",
   "execution_count": 19,
   "id": "011cc566",
   "metadata": {},
   "outputs": [
    {
     "data": {
      "text/plain": [
       "<matplotlib.legend.Legend at 0x1b60aa6d5e0>"
      ]
     },
     "execution_count": 19,
     "metadata": {},
     "output_type": "execute_result"
    },
    {
     "data": {
      "image/png": "[encoded data removed]",
      "text/plain": [
       "<Figure size 432x288 with 1 Axes>"
      ]
     },
     "metadata": {
      "needs_background": "light"
     },
     "output_type": "display_data"
    }
   ],
   "source": [
    "plt.plot(metrics['ep'], metrics['avg'], label=\"average rewards\")\n",
    "plt.plot(metrics['ep'], metrics['min'], label=\"min rewards\")\n",
    "plt.plot(metrics['ep'], metrics['max'], label=\"max rewards\")\n",
    "plt.legend(loc=4)"
   ]
  },
  {
   "cell_type": "markdown",
   "id": "ce291b11",
   "metadata": {},
   "source": [
    "### Playing modified cartpole after learning"
   ]
  },
  {
   "cell_type": "code",
   "execution_count": 22,
   "id": "abc4800e",
   "metadata": {},
   "outputs": [],
   "source": [
    "frames = []\n",
    "env_2.reset()\n",
    "done = False\n",
    "episode_reward = 0\n",
    "discrete_state = get_discrete_state(env_2.reset()[0])\n",
    "for i in range(500):\n",
    "    \n",
    "    action = np.argmax(q_table_2[discrete_state]) #take cordinated action\n",
    "    new_state, reward, terminated, truncated, info = env_2.step(action)\n",
    "    done = terminated or truncated\n",
    "    \n",
    "    if -(12*np.pi)/180 < new_state[2] < -(6*np.pi)/180 or (12*np.pi)/180 > new_state[2] > (6*np.pi)/180:\n",
    "        reward = 2\n",
    "    else:\n",
    "        reward = 0\n",
    "    \n",
    "    episode_reward += reward\n",
    "\n",
    "    # Observe new state\n",
    "    if not done:\n",
    "        discrete_state = get_discrete_state(new_state)\n",
    "    else:\n",
    "        break\n",
    "\n",
    "    frame = env_2.render()\n",
    "    frames.append(frame)\n",
    "\n",
    "    if done:\n",
    "        break"
   ]
  },
  {
   "cell_type": "code",
   "execution_count": 23,
   "id": "49a045f6",
   "metadata": {},
   "outputs": [
    {
     "name": "stdout",
     "output_type": "stream",
     "text": [
      "Game terminated after 48 steps with reward 82\n"
     ]
    },
    {
     "data": {
      "text/html": [
       "<img src=\"./RL_agent_2.gif\">"
      ],
      "text/plain": [
       "<IPython.core.display.HTML object>"
      ]
     },
     "execution_count": 23,
     "metadata": {},
     "output_type": "execute_result"
    }
   ],
   "source": [
    "print(\"Game terminated after\", len(frames), \"steps with reward\", episode_reward)\n",
    "save_frames_as_gif(frames, path='./', filename='RL_agent_2.gif')\n",
    "HTML('<img src=\"./RL_agent_2.gif\">')"
   ]
  },
  {
   "cell_type": "code",
   "execution_count": null,
   "id": "f4cd2892",
   "metadata": {},
   "outputs": [],
   "source": []
  }
 ],
 "metadata": {
  "kernelspec": {
   "display_name": "Python 3",
   "language": "python",
   "name": "python3"
  },
  "language_info": {
   "codemirror_mode": {
    "name": "ipython",
    "version": 3
   },
   "file_extension": ".py",
   "mimetype": "text/x-python",
   "name": "python",
   "nbconvert_exporter": "python",
   "pygments_lexer": "ipython3",
   "version": "3.8.10"
  }
 },
 "nbformat": 4,
 "nbformat_minor": 5
}
