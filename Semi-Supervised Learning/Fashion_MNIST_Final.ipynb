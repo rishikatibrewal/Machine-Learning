{
  "cells": [
    {
      "cell_type": "markdown",
      "source": [
        "#Importing Libraries"
      ],
      "metadata": {
        "id": "wFvPzFe4yxNp"
      }
    },
    {
      "cell_type": "code",
      "execution_count": null,
      "metadata": {
        "id": "QbVMFxbhel8o"
      },
      "outputs": [],
      "source": [
        "# pip install -U memory_profiler"
      ]
    },
    {
      "cell_type": "code",
      "execution_count": null,
      "metadata": {
        "id": "EmK3YzBGKTbE"
      },
      "outputs": [],
      "source": [
        "import numpy as np\n",
        "import tensorflow as tf\n",
        "from tensorflow import keras\n",
        "from tensorflow.keras import models, layers, losses, metrics, callbacks, datasets\n",
        "from sklearn.linear_model import LogisticRegression\n",
        "from sklearn.pipeline import Pipeline\n",
        "from sklearn.cluster import KMeans\n",
        "import matplotlib.pyplot as plt\n",
        "%reload_ext memory_profiler\n",
        "from memory_profiler import profile\n",
        "import warnings\n",
        "warnings.filterwarnings('ignore')\n",
        "seed=42\n",
        "tf.random.set_seed(seed)"
      ]
    },
    {
      "cell_type": "markdown",
      "source": [
        "#Data Importing & Pre-processing"
      ],
      "metadata": {
        "id": "wFjKTatBsCeG"
      }
    },
    {
      "cell_type": "markdown",
      "source": [
        "Importing the dataset from keras\n",
        "\n",
        "---\n",
        "\n"
      ],
      "metadata": {
        "id": "vir3lp8Eq038"
      }
    },
    {
      "cell_type": "code",
      "execution_count": null,
      "metadata": {
        "id": "_Ymkkh06KcQw",
        "colab": {
          "base_uri": "https://localhost:8080/"
        },
        "outputId": "5e949dee-b13c-4511-daaa-451ec0672bb3"
      },
      "outputs": [
        {
          "output_type": "stream",
          "name": "stdout",
          "text": [
            "Downloading data from https://storage.googleapis.com/tensorflow/tf-keras-datasets/train-labels-idx1-ubyte.gz\n",
            "32768/29515 [=================================] - 0s 0us/step\n",
            "40960/29515 [=========================================] - 0s 0us/step\n",
            "Downloading data from https://storage.googleapis.com/tensorflow/tf-keras-datasets/train-images-idx3-ubyte.gz\n",
            "26427392/26421880 [==============================] - 0s 0us/step\n",
            "26435584/26421880 [==============================] - 0s 0us/step\n",
            "Downloading data from https://storage.googleapis.com/tensorflow/tf-keras-datasets/t10k-labels-idx1-ubyte.gz\n",
            "16384/5148 [===============================================================================================] - 0s 0us/step\n",
            "Downloading data from https://storage.googleapis.com/tensorflow/tf-keras-datasets/t10k-images-idx3-ubyte.gz\n",
            "4423680/4422102 [==============================] - 0s 0us/step\n",
            "4431872/4422102 [==============================] - 0s 0us/step\n"
          ]
        }
      ],
      "source": [
        "(X_train,y_train),(X_test,y_test)=datasets.fashion_mnist.load_data()"
      ]
    },
    {
      "cell_type": "code",
      "execution_count": null,
      "metadata": {
        "colab": {
          "base_uri": "https://localhost:8080/"
        },
        "id": "e3Mq9C_fUVq2",
        "outputId": "58dd939c-0851-4d56-a1aa-cd99198d81ae"
      },
      "outputs": [
        {
          "output_type": "execute_result",
          "data": {
            "text/plain": [
              "(60000, 28, 28)"
            ]
          },
          "metadata": {},
          "execution_count": 5
        }
      ],
      "source": [
        "X_train.shape"
      ]
    },
    {
      "cell_type": "code",
      "execution_count": null,
      "metadata": {
        "colab": {
          "base_uri": "https://localhost:8080/"
        },
        "id": "Ed1rcFLgDwZS",
        "outputId": "0ccfcec1-098f-4958-b555-541282b40a7a"
      },
      "outputs": [
        {
          "output_type": "execute_result",
          "data": {
            "text/plain": [
              "(28, 28)"
            ]
          },
          "metadata": {},
          "execution_count": 6
        }
      ],
      "source": [
        "X_train[0].shape"
      ]
    },
    {
      "cell_type": "markdown",
      "metadata": {
        "id": "PXWGmR9mD4Ae"
      },
      "source": [
        "Each image is a 28x28 array"
      ]
    },
    {
      "cell_type": "code",
      "execution_count": null,
      "metadata": {
        "colab": {
          "base_uri": "https://localhost:8080/"
        },
        "id": "ESoLffvsKsmt",
        "outputId": "d0bee8cc-95c6-455b-d255-ed1fd6a79830"
      },
      "outputs": [
        {
          "output_type": "stream",
          "name": "stdout",
          "text": [
            "X-train shape : (60000, 28, 28)\n",
            "y-train shape : (60000,)\n",
            "X-test shape : (10000, 28, 28)\n",
            "y-test shape : (10000,)\n"
          ]
        }
      ],
      "source": [
        "print(\"X-train shape :\",X_train.shape)\n",
        "print(\"y-train shape :\", y_train.shape)\n",
        "print(\"X-test shape :\", X_test.shape)\n",
        "print(\"y-test shape :\", y_test.shape)"
      ]
    },
    {
      "cell_type": "code",
      "execution_count": null,
      "metadata": {
        "id": "Ok7DxP_5KvzN"
      },
      "outputs": [],
      "source": [
        "class_names=['T-shirt/top','Trouser','Pullover','Dress','Coat','Sandal','Shirt',\n",
        "            'Sneaker','Bag','Ankle Boot']"
      ]
    },
    {
      "cell_type": "markdown",
      "metadata": {
        "id": "po2RycRD6Xv_"
      },
      "source": [
        "**Labels** :\n",
        "\n",
        "---\n",
        "**T-shirt/top** - 0 \\\n",
        "**Trouser** - 1 \\\n",
        "**Pullover** - 2 \\\n",
        "**Dress** - 3 \\\n",
        "**Coat** - 4 \\\n",
        "**Sandal** - 5 \\\n",
        "**Shirt** - 6 \\\n",
        "**Sneaker** - 7 \\\n",
        "**Bag** - 8 \\\n",
        "**Ankle Boot** - 9 \\"
      ]
    },
    {
      "cell_type": "markdown",
      "source": [
        "Normalising the values\n",
        "\n",
        "---\n",
        "\n"
      ],
      "metadata": {
        "id": "rSY68n2xq-mJ"
      }
    },
    {
      "cell_type": "code",
      "execution_count": null,
      "metadata": {
        "id": "w-HSDPmrNyUc"
      },
      "outputs": [],
      "source": [
        "X_train,X_test = X_train/255.0 ,X_test/255.0"
      ]
    },
    {
      "cell_type": "code",
      "execution_count": null,
      "metadata": {
        "colab": {
          "base_uri": "https://localhost:8080/",
          "height": 284
        },
        "id": "LvXg2XAnLDuc",
        "outputId": "72597810-acb5-412f-ba26-22e5053ca8f7"
      },
      "outputs": [
        {
          "output_type": "display_data",
          "data": {
            "text/plain": [
              "<Figure size 432x288 with 1 Axes>"
            ],
            "image/png": "[encoded data removed]"
          },
          "metadata": {
            "needs_background": "light"
          }
        },
        {
          "output_type": "stream",
          "name": "stdout",
          "text": [
            "\n",
            "      It is a Bag\n"
          ]
        }
      ],
      "source": [
        "index= np.random.randint(55000)\n",
        "plt.imshow(X_train[index],cmap='binary')\n",
        "plt.axis('off')\n",
        "plt.show()\n",
        "\n",
        "print('\\n      It is a',class_names[y_train[index]])"
      ]
    },
    {
      "cell_type": "markdown",
      "metadata": {
        "id": "99ecRaUJChhV"
      },
      "source": [
        "Converting each 28x28 data point (image array) to 784-D array data point\n",
        "\n",
        "---\n",
        "\n"
      ]
    },
    {
      "cell_type": "code",
      "execution_count": null,
      "metadata": {
        "id": "_9zOIs1AOA5_"
      },
      "outputs": [],
      "source": [
        "X_train_flatten= X_train.reshape(X_train.shape[0],-1)\n",
        "X_test_flatten= X_test.reshape(X_test.shape[0],-1)"
      ]
    },
    {
      "cell_type": "code",
      "execution_count": null,
      "metadata": {
        "colab": {
          "base_uri": "https://localhost:8080/"
        },
        "id": "97XqeQ6OCcaX",
        "outputId": "aae435ef-e5be-4feb-ba85-7a294b75f444"
      },
      "outputs": [
        {
          "output_type": "stream",
          "name": "stdout",
          "text": [
            "X-train shape after flattening: (60000, 784)\n",
            "X-test shape after flattening: (10000, 784)\n"
          ]
        }
      ],
      "source": [
        "print(\"X-train shape after flattening:\",X_train_flatten.shape)\n",
        "print(\"X-test shape after flattening:\", X_test_flatten.shape)"
      ]
    },
    {
      "cell_type": "markdown",
      "source": [
        "#Defining Neural Network model"
      ],
      "metadata": {
        "id": "KqTJBRZup_Aq"
      }
    },
    {
      "cell_type": "code",
      "source": [
        "def neural_model(x_data,y_data):\n",
        "  model = keras.models.Sequential([\n",
        "                                   keras.layers.Dense(400, activation=\"relu\"),\n",
        "                                   keras.layers.Dense(300, activation=\"relu\"),\n",
        "                                   keras.layers.Dense(100, activation=\"relu\"),\n",
        "                                   keras.layers.Dense(10, activation=\"sigmoid\")\n",
        "                                   ])\n",
        "  \n",
        "  model.compile(loss=\"sparse_categorical_crossentropy\",\n",
        "                optimizer=\"adam\",\n",
        "                metrics=[\"accuracy\"])\n",
        "  \n",
        "  history = model.fit(x_data, y_data,\n",
        "                      epochs=30, \n",
        "                      validation_split = 0.1,\n",
        "                      verbose=0)\n",
        "  \n",
        "  return model"
      ],
      "metadata": {
        "id": "WJNx8p43d4dZ"
      },
      "execution_count": null,
      "outputs": []
    },
    {
      "cell_type": "markdown",
      "metadata": {
        "id": "_mDFVP0_Fx01"
      },
      "source": [
        "#Standard Logistic Regression & Neural Network Models on the entire training dataset"
      ]
    },
    {
      "cell_type": "code",
      "execution_count": null,
      "metadata": {
        "colab": {
          "base_uri": "https://localhost:8080/"
        },
        "id": "WVkQbYr1EvbT",
        "outputId": "02fe2c52-d6bf-4411-ec7a-e15c09dfe827"
      },
      "outputs": [
        {
          "output_type": "stream",
          "name": "stdout",
          "text": [
            "Accuracy of standard Logistic Regression model:  0.8426\n",
            "peak memory: 1505.54 MiB, increment: 20.29 MiB\n",
            "CPU times: user 10min 43s, sys: 503 ms, total: 10min 43s\n",
            "Wall time: 10min 44s\n"
          ]
        }
      ],
      "source": [
        "%%time\n",
        "%%memit\n",
        "log_reg1 = LogisticRegression(multi_class=\"ovr\",solver=\"saga\",random_state=seed)\n",
        "log_reg1.fit(X_train_flatten, y_train)\n",
        "print(\"Accuracy of standard Logistic Regression model: \",log_reg1.score(X_test_flatten, y_test))"
      ]
    },
    {
      "cell_type": "code",
      "source": [
        "%%time\n",
        "%%memit\n",
        "neural1 = neural_model(X_train_flatten, y_train)\n",
        "print(\"Accuracy of standard Neural network model:\",neural1.evaluate(X_test_flatten, y_test,verbose=0)[1])"
      ],
      "metadata": {
        "colab": {
          "base_uri": "https://localhost:8080/"
        },
        "id": "aFFzJTrqe8vQ",
        "outputId": "650a0b2c-631a-4dad-d759-3866f34f81cd"
      },
      "execution_count": null,
      "outputs": [
        {
          "output_type": "stream",
          "name": "stdout",
          "text": [
            "Accuracy of standard Neural network model: 0.890500009059906\n",
            "peak memory: 1539.76 MiB, increment: 34.21 MiB\n",
            "CPU times: user 4min 17s, sys: 17.3 s, total: 4min 35s\n",
            "Wall time: 3min 11s\n"
          ]
        }
      ]
    },
    {
      "cell_type": "markdown",
      "metadata": {
        "id": "fLDUz9lGJ_M_"
      },
      "source": [
        "#Models on randomly labelled k instances of the training set"
      ]
    },
    {
      "cell_type": "code",
      "execution_count": null,
      "metadata": {
        "colab": {
          "base_uri": "https://localhost:8080/"
        },
        "id": "972P7K-NKDlW",
        "outputId": "ecbe2f7b-de7e-4a89-90dd-4c4374512dea"
      },
      "outputs": [
        {
          "output_type": "stream",
          "name": "stdout",
          "text": [
            "Logistic Regression:\n",
            "\n",
            "Labelled Instance= 10, Accuracy= 0.3736\n",
            "Labelled Instance= 15, Accuracy= 0.4056\n",
            "Labelled Instance= 20, Accuracy= 0.4278\n",
            "Labelled Instance= 25, Accuracy= 0.5502\n",
            "Labelled Instance= 30, Accuracy= 0.5716\n",
            "Labelled Instance= 35, Accuracy= 0.5916\n",
            "Labelled Instance= 40, Accuracy= 0.6692\n",
            "Labelled Instance= 45, Accuracy= 0.6471\n",
            "Labelled Instance= 50, Accuracy= 0.6618\n",
            "Labelled Instance= 55, Accuracy= 0.6671\n",
            "Labelled Instance= 60, Accuracy= 0.6712\n",
            "Labelled Instance= 65, Accuracy= 0.6736\n",
            "Labelled Instance= 70, Accuracy= 0.691\n",
            "Labelled Instance= 75, Accuracy= 0.6888\n",
            "Labelled Instance= 80, Accuracy= 0.6863\n",
            "Labelled Instance= 85, Accuracy= 0.6916\n",
            "Labelled Instance= 90, Accuracy= 0.6825\n",
            "Labelled Instance= 95, Accuracy= 0.675\n",
            "Labelled Instance= 100, Accuracy= 0.6914\n",
            "peak memory: 1076.21 MiB, increment: 20.23 MiB\n",
            "CPU times: user 13.1 s, sys: 1.98 s, total: 15.1 s\n",
            "Wall time: 12.7 s\n"
          ]
        }
      ],
      "source": [
        "%%time\n",
        "%%memit\n",
        "n_label=np.arange(10,101,5)\n",
        "print('Logistic Regression:\\n')\n",
        "for i in range(len(n_label)):\n",
        "    log_reg2 = LogisticRegression(multi_class=\"ovr\",solver=\"saga\",random_state=seed)\n",
        "    log_reg2.fit(X_train_flatten[:n_label[i]], y_train[:n_label[i]])\n",
        "    print('Labelled Instance= {}, Accuracy= {}'.format(n_label[i],\n",
        "            log_reg2.score(X_test_flatten,y_test)))"
      ]
    },
    {
      "cell_type": "code",
      "source": [
        "%%time\n",
        "%%memit\n",
        "n_label=np.arange(10,101,5)\n",
        "print('Neural Network:\\n')\n",
        "for i in range(len(n_label)):\n",
        "    neural2 = neural_model(X_train_flatten[:n_label[i]], y_train[:n_label[i]])\n",
        "    print('Labelled Instance= {}, Accuracy= {}'.format(n_label[i],\n",
        "            neural2.evaluate(X_test_flatten,y_test,verbose=0)[1]))"
      ],
      "metadata": {
        "colab": {
          "base_uri": "https://localhost:8080/"
        },
        "id": "nCtEC5oUjGDt",
        "outputId": "ba6b8535-d43d-4554-880f-05b784968084"
      },
      "execution_count": null,
      "outputs": [
        {
          "output_type": "stream",
          "name": "stdout",
          "text": [
            "Neural Network:\n",
            "\n",
            "Labelled Instance= 10, Accuracy= 0.35679998993873596\n",
            "Labelled Instance= 15, Accuracy= 0.3878999948501587\n",
            "Labelled Instance= 20, Accuracy= 0.41040000319480896\n",
            "Labelled Instance= 25, Accuracy= 0.48100000619888306\n",
            "Labelled Instance= 30, Accuracy= 0.4902999997138977\n",
            "Labelled Instance= 35, Accuracy= 0.5960999727249146\n",
            "Labelled Instance= 40, Accuracy= 0.5856000185012817\n",
            "Labelled Instance= 45, Accuracy= 0.6236000061035156\n",
            "Labelled Instance= 50, Accuracy= 0.6244000196456909\n",
            "Labelled Instance= 55, Accuracy= 0.6661999821662903\n",
            "Labelled Instance= 60, Accuracy= 0.6784999966621399\n",
            "Labelled Instance= 65, Accuracy= 0.6656000018119812\n",
            "Labelled Instance= 70, Accuracy= 0.6959999799728394\n",
            "Labelled Instance= 75, Accuracy= 0.6850000023841858\n",
            "Labelled Instance= 80, Accuracy= 0.720300018787384\n",
            "Labelled Instance= 85, Accuracy= 0.707099974155426\n",
            "Labelled Instance= 90, Accuracy= 0.7009000182151794\n",
            "Labelled Instance= 95, Accuracy= 0.7190999984741211\n",
            "Labelled Instance= 100, Accuracy= 0.7178999781608582\n",
            "peak memory: 1374.24 MiB, increment: 298.04 MiB\n",
            "CPU times: user 1min 3s, sys: 3.36 s, total: 1min 7s\n",
            "Wall time: 1min 3s\n"
          ]
        }
      ]
    },
    {
      "cell_type": "markdown",
      "source": [
        "#Models on the centroids computed using K-Means Clustering"
      ],
      "metadata": {
        "id": "6vMLcUoomSTL"
      }
    },
    {
      "cell_type": "markdown",
      "source": [
        "Computing k Centroids using K-Means Clustering\n",
        "\n",
        "---\n",
        "\n"
      ],
      "metadata": {
        "id": "Qo9vlgQEmvVr"
      }
    },
    {
      "cell_type": "code",
      "source": [
        "k=100"
      ],
      "metadata": {
        "id": "p_90tSnn39DU"
      },
      "execution_count": null,
      "outputs": []
    },
    {
      "cell_type": "code",
      "execution_count": null,
      "metadata": {
        "colab": {
          "base_uri": "https://localhost:8080/"
        },
        "id": "Z5LLb5PDUXgD",
        "outputId": "3612c568-5f42-4068-9528-2da833984e13"
      },
      "outputs": [
        {
          "output_type": "stream",
          "name": "stdout",
          "text": [
            "peak memory: 2107.80 MiB, increment: 733.59 MiB\n",
            "CPU times: user 9min 44s, sys: 1min 36s, total: 11min 20s\n",
            "Wall time: 6min 2s\n"
          ]
        }
      ],
      "source": [
        "%%time\n",
        "%%memit\n",
        "kmeans = KMeans(init='k-means++',n_clusters=k, random_state=seed)\n",
        "X_image_dist = kmeans.fit_transform(X_train_flatten)\n",
        "representative_image_idx = np.argmin(X_image_dist, axis=0)\n",
        "X_representative_image = X_train_flatten[representative_image_idx]"
      ]
    },
    {
      "cell_type": "code",
      "execution_count": null,
      "metadata": {
        "id": "AG95APhIaLSl",
        "colab": {
          "base_uri": "https://localhost:8080/"
        },
        "outputId": "d60d206c-ce28-4ab0-8c94-77407694b3c6"
      },
      "outputs": [
        {
          "output_type": "stream",
          "name": "stdout",
          "text": [
            "['Pullover' 'Pullover' 'Dress' 'Bag' 'Pullover' 'Ankle Boot' 'Shirt'\n",
            " 'Ankle Boot' 'Sneaker' 'T-shirt/top' 'Pullover' 'Shirt' 'Shirt' 'Bag'\n",
            " 'Coat' 'Sandal' 'Sneaker' 'T-shirt/top' 'Bag' 'Ankle Boot' 'Coat'\n",
            " 'Sneaker' 'Trouser' 'Sandal' 'Bag' 'Bag' 'Sneaker' 'Shirt' 'Shirt' 'Bag'\n",
            " 'Pullover' 'Dress' 'T-shirt/top' 'Trouser' 'Shirt' 'Dress' 'Ankle Boot'\n",
            " 'Trouser' 'Ankle Boot' 'Bag' 'Coat' 'Ankle Boot' 'T-shirt/top' 'Bag'\n",
            " 'Sneaker' 'Dress' 'Bag' 'Dress' 'Ankle Boot' 'Sneaker' 'Ankle Boot' 'Bag'\n",
            " 'Shirt' 'Shirt' 'Shirt' 'Bag' 'T-shirt/top' 'Sneaker' 'T-shirt/top'\n",
            " 'Coat' 'Pullover' 'Ankle Boot' 'Bag' 'Pullover' 'Trouser' 'Trouser'\n",
            " 'Sneaker' 'Pullover' 'Coat' 'Pullover' 'Sandal' 'Sandal' 'Sandal'\n",
            " 'T-shirt/top' 'Coat' 'Sneaker' 'Trouser' 'Bag' 'Dress' 'Sandal' 'Dress'\n",
            " 'Dress' 'T-shirt/top' 'Sandal' 'Shirt' 'Shirt' 'Dress' 'Ankle Boot'\n",
            " 'Shirt' 'Trouser' 'Ankle Boot' 'Pullover' 'Dress' 'Shirt' 'Shirt' 'Dress'\n",
            " 'Trouser' 'Trouser' 'Sneaker' 'Trouser']\n"
          ]
        }
      ],
      "source": [
        "y_representative_image = y_train[representative_image_idx]\n",
        "print(np.array(class_names)[y_representative_image])"
      ]
    },
    {
      "cell_type": "code",
      "execution_count": null,
      "metadata": {
        "id": "3IRdumX1X9-V",
        "colab": {
          "base_uri": "https://localhost:8080/",
          "height": 441
        },
        "outputId": "e7c491d5-2542-4ac3-c360-247c533f4445"
      },
      "outputs": [
        {
          "output_type": "display_data",
          "data": {
            "text/plain": [
              "<Figure size 2160x720 with 100 Axes>"
            ],
            "image/png": "[encoded data removed]"
          },
          "metadata": {
            "needs_background": "light"
          }
        }
      ],
      "source": [
        "plt.figure(figsize=(30, 10))\n",
        "for index, X_representative_images in enumerate(X_representative_image):\n",
        " plt.subplot(5, k//5, index + 1)\n",
        " plt.imshow(X_representative_image[index].reshape(28,28), cmap=\"binary\", interpolation=\"nearest\")\n",
        " plt.axis('off')\n",
        "plt.subplots_adjust(wspace=0.2, hspace=0.5)\n",
        "plt.show()"
      ]
    },
    {
      "cell_type": "code",
      "execution_count": null,
      "metadata": {
        "colab": {
          "base_uri": "https://localhost:8080/"
        },
        "id": "-27PC8HAci46",
        "outputId": "c931f7ce-df28-486b-ecef-e0b0e63db7f5"
      },
      "outputs": [
        {
          "output_type": "stream",
          "name": "stdout",
          "text": [
            "Accuracy of Logistic Regression:  0.6986\n",
            "peak memory: 2114.06 MiB, increment: 0.11 MiB\n",
            "CPU times: user 1.43 s, sys: 89.7 ms, total: 1.52 s\n",
            "Wall time: 1.58 s\n"
          ]
        }
      ],
      "source": [
        "%%time\n",
        "%%memit\n",
        "log_reg3 = LogisticRegression(multi_class=\"ovr\",solver=\"saga\",random_state=seed)\n",
        "log_reg3.fit(X_representative_image, y_representative_image)\n",
        "print(\"Accuracy of Logistic Regression: \",log_reg3.score(X_test_flatten, y_test))"
      ]
    },
    {
      "cell_type": "code",
      "source": [
        "%%time\n",
        "%%memit\n",
        "neural3 = neural_model(X_representative_image, y_representative_image)\n",
        "print(\"Accuracy of neural network model: \",neural3.evaluate(X_test_flatten, y_test,verbose=0)[1])"
      ],
      "metadata": {
        "colab": {
          "base_uri": "https://localhost:8080/"
        },
        "id": "AQ8n0b-6dqe1",
        "outputId": "99799a3c-dd96-4b75-fc51-424e5b8b4458"
      },
      "execution_count": null,
      "outputs": [
        {
          "output_type": "stream",
          "name": "stdout",
          "text": [
            "Accuracy of neural network model:  0.7096999883651733\n",
            "peak memory: 2113.97 MiB, increment: 0.65 MiB\n",
            "CPU times: user 3.94 s, sys: 349 ms, total: 4.29 s\n",
            "Wall time: 3.95 s\n"
          ]
        }
      ]
    },
    {
      "cell_type": "markdown",
      "source": [
        "#Propgating labels of the centroid to each data point in the cluster"
      ],
      "metadata": {
        "id": "4aM-OmPOnAyA"
      }
    },
    {
      "cell_type": "code",
      "execution_count": null,
      "metadata": {
        "id": "QaYGZ-F4GEdA"
      },
      "outputs": [],
      "source": [
        "y_train_propagated = np.empty(len(X_train_flatten), dtype=np.int32)\n",
        "for i in range(k):\n",
        " y_train_propagated[kmeans.labels_==i] = y_representative_image[i]"
      ]
    },
    {
      "cell_type": "code",
      "execution_count": null,
      "metadata": {
        "colab": {
          "base_uri": "https://localhost:8080/"
        },
        "id": "IMpPheEwBs5i",
        "outputId": "a3a1a72a-f1af-45e9-c085-2f6c4e82d081"
      },
      "outputs": [
        {
          "output_type": "stream",
          "name": "stdout",
          "text": [
            "Accuracy of Logistic Regression:  0.6948\n",
            "peak memory: 2113.95 MiB, increment: 0.02 MiB\n",
            "CPU times: user 10min 55s, sys: 586 ms, total: 10min 56s\n",
            "Wall time: 10min 53s\n"
          ]
        }
      ],
      "source": [
        "%%time\n",
        "%%memit\n",
        "log_reg4 = LogisticRegression(multi_class=\"ovr\",solver=\"saga\",random_state=seed)\n",
        "log_reg4.fit(X_train_flatten, y_train_propagated)\n",
        "print(\"Accuracy of Logistic Regression: \",log_reg4.score(X_test_flatten, y_test))"
      ]
    },
    {
      "cell_type": "code",
      "source": [
        "%%time\n",
        "%%memit\n",
        "neural4 = neural_model(X_train_flatten, y_train_propagated)\n",
        "print(\"Accuracy of neural network model: \",neural4.evaluate(X_test_flatten, y_test,verbose=0)[1])"
      ],
      "metadata": {
        "id": "E1xGTj6goZSD",
        "colab": {
          "base_uri": "https://localhost:8080/"
        },
        "outputId": "be029e8c-8527-4bd6-efd8-3fd5cf3d340b"
      },
      "execution_count": null,
      "outputs": [
        {
          "output_type": "stream",
          "name": "stdout",
          "text": [
            "Accuracy of neural network model:  0.6879000067710876\n",
            "peak memory: 2114.12 MiB, increment: 0.17 MiB\n",
            "CPU times: user 10min 1s, sys: 32 s, total: 10min 33s\n",
            "Wall time: 6min 44s\n"
          ]
        }
      ]
    },
    {
      "cell_type": "markdown",
      "source": [
        "#Propgating labels to data points closer to cluster centroids (using some percentile)"
      ],
      "metadata": {
        "id": "X7duPkbDnP7f"
      }
    },
    {
      "cell_type": "code",
      "execution_count": null,
      "metadata": {
        "id": "eXtHwZ_gn5Lg"
      },
      "outputs": [],
      "source": [
        "def k_means_per_lr(p):\n",
        "  X_cluster_dist = X_image_dist[np.arange(len(X_train_flatten)), kmeans.labels_]\n",
        "  for i in range(k):\n",
        "    in_cluster = (kmeans.labels_ == i)\n",
        "    cluster_dist = X_cluster_dist[in_cluster]\n",
        "    cutoff_distance = np.percentile(cluster_dist, p)\n",
        "    above_cutoff = (X_cluster_dist > cutoff_distance)\n",
        "    X_cluster_dist[in_cluster & above_cutoff] = -1\n",
        "  partially_propagated = (X_cluster_dist != -1)\n",
        "   # Allocating Labels to Labelled Point in Cluster\n",
        "  X_train_partially_propagated = X_train_flatten[partially_propagated]\n",
        "  y_train_partially_propagated = y_train_propagated[partially_propagated]\n",
        "  log_reg5 = LogisticRegression(multi_class=\"ovr\",solver=\"saga\",random_state=seed)\n",
        "  log_reg5.fit(X_train_partially_propagated, y_train_partially_propagated)\n",
        "  print('Percentile ={}, Accuracy= {}'.format(j,log_reg5.score(X_test_flatten, y_test)))"
      ]
    },
    {
      "cell_type": "code",
      "execution_count": null,
      "metadata": {
        "colab": {
          "base_uri": "https://localhost:8080/"
        },
        "id": "Ah9fjQD8-nTR",
        "outputId": "e99c8d39-0cb9-468c-d020-573011dc1207"
      },
      "outputs": [
        {
          "output_type": "stream",
          "name": "stdout",
          "text": [
            "Logistic Regression \n",
            "\n",
            "Percentile =20, Accuracy= 0.7085\n",
            "Percentile =25, Accuracy= 0.7084\n",
            "Percentile =50, Accuracy= 0.6982\n",
            "Percentile =75, Accuracy= 0.6942\n",
            "peak memory: 2114.08 MiB, increment: 0.02 MiB\n",
            "CPU times: user 18min 3s, sys: 1.02 s, total: 18min 4s\n",
            "Wall time: 17min 59s\n"
          ]
        }
      ],
      "source": [
        "%%time\n",
        "%%memit\n",
        "print('Logistic Regression \\n')\n",
        "per=[20,25,50,75]\n",
        "for j in per:\n",
        "  k_means_per_lr(j)"
      ]
    },
    {
      "cell_type": "code",
      "source": [
        "def k_means_per_nn(p):\n",
        "  X_cluster_dist = X_image_dist[np.arange(len(X_train_flatten)), kmeans.labels_]\n",
        "  for i in range(k):\n",
        "    in_cluster = (kmeans.labels_ == i)\n",
        "    cluster_dist = X_cluster_dist[in_cluster]\n",
        "    cutoff_distance = np.percentile(cluster_dist, p)\n",
        "    above_cutoff = (X_cluster_dist > cutoff_distance)\n",
        "    X_cluster_dist[in_cluster & above_cutoff] = -1\n",
        "  partially_propagated = (X_cluster_dist != -1)\n",
        "   # Allocating Labels to Labelled Point in Cluster\n",
        "  X_train_partially_propagated = X_train_flatten[partially_propagated]\n",
        "  y_train_partially_propagated = y_train_propagated[partially_propagated]\n",
        "  neural5 = neural_model(X_train_partially_propagated, y_train_partially_propagated)\n",
        "  print('Percentile ={}, Accuracy= {}'.format(j,neural5.evaluate(X_test_flatten, y_test,verbose=0)[1]))"
      ],
      "metadata": {
        "id": "zQVwERhK75EG"
      },
      "execution_count": null,
      "outputs": []
    },
    {
      "cell_type": "code",
      "source": [
        "%%time\n",
        "%%memit\n",
        "print('Neural Network \\n')\n",
        "per=[20,25,50,75]\n",
        "for j in per:\n",
        "  k_means_per_nn(j)"
      ],
      "metadata": {
        "id": "fCdv24tPp2M5",
        "colab": {
          "base_uri": "https://localhost:8080/"
        },
        "outputId": "82ef02a7-4db7-4c6a-b3a1-f005e98b8e9d"
      },
      "execution_count": null,
      "outputs": [
        {
          "output_type": "stream",
          "name": "stdout",
          "text": [
            "Neural Network \n",
            "\n",
            "Percentile =20, Accuracy= 0.6923999786376953\n",
            "Percentile =25, Accuracy= 0.6905999779701233\n",
            "Percentile =50, Accuracy= 0.6845999956130981\n",
            "Percentile =75, Accuracy= 0.6879000067710876\n",
            "peak memory: 2114.23 MiB, increment: 0.15 MiB\n",
            "CPU times: user 17min 8s, sys: 58.2 s, total: 18min 6s\n",
            "Wall time: 12min 17s\n"
          ]
        }
      ]
    }
  ],
  "metadata": {
    "colab": {
      "collapsed_sections": [],
      "name": "Fashion_MNIST_Final",
      "provenance": []
    },
    "kernelspec": {
      "display_name": "Python 3",
      "name": "python3"
    },
    "language_info": {
      "name": "python"
    }
  },
  "nbformat": 4,
  "nbformat_minor": 0
}